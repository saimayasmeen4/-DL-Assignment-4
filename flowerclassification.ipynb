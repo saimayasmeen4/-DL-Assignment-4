{
  "nbformat": 4,
  "nbformat_minor": 0,
  "metadata": {
    "colab": {
      "name": "flowerclassification.ipynb",
      "provenance": [],
      "collapsed_sections": []
    },
    "kernelspec": {
      "name": "python3",
      "display_name": "Python 3"
    },
    "language_info": {
      "name": "python"
    },
    "accelerator": "GPU"
  },
  "cells": [
    {
      "cell_type": "code",
      "metadata": {
        "colab": {
          "base_uri": "https://localhost:8080/"
        },
        "id": "ZOma4jpKeYm6",
        "outputId": "748bd7b2-d0d8-475d-a2e1-443481a8286b"
      },
      "source": [
        "from google.colab import drive\n",
        "drive.mount('/content/drive')"
      ],
      "execution_count": null,
      "outputs": [
        {
          "output_type": "stream",
          "text": [
            "Drive already mounted at /content/drive; to attempt to forcibly remount, call drive.mount(\"/content/drive\", force_remount=True).\n"
          ],
          "name": "stdout"
        }
      ]
    },
    {
      "cell_type": "code",
      "metadata": {
        "id": "MHeMvFpkR-Oe"
      },
      "source": [
        "import numpy as np\n",
        "import pandas as pd\n",
        "import tensorflow as tf\n",
        "from tensorflow.keras import models\n",
        "from tensorflow.keras import layers\n",
        "from tensorflow.keras.preprocessing.image import ImageDataGenerator\n",
        "from tensorflow.keras.models import Sequential\n",
        "from tensorflow.keras.layers import Dense, Flatten\n",
        "from tensorflow.keras.optimizers import RMSprop\n"
      ],
      "execution_count": null,
      "outputs": []
    },
    {
      "cell_type": "code",
      "metadata": {
        "colab": {
          "base_uri": "https://localhost:8080/"
        },
        "id": "gu8R1NyOv9Gv",
        "outputId": "148311a8-ae35-42b8-953b-ac11d3f746a3"
      },
      "source": [
        "val_batch = 10\n",
        "train_batch = 20\n",
        "train_datagen = ImageDataGenerator(\n",
        "        rescale=1./255,\n",
        "        shear_range=0.4,\n",
        "        zoom_range=0.3,\n",
        "        validation_split=0.4,\n",
        "        horizontal_flip=True,\n",
        "        )\n",
        "train_generator = train_datagen.flow_from_directory(\n",
        "        '/content/drive/MyDrive/PIAIC/flower-recognition',\n",
        "        target_size=(180, 180),\n",
        "        batch_size=train_batch,\n",
        "        class_mode='categorical',\n",
        "        subset = 'training',\n",
        "        shuffle = True\n",
        "        )\n",
        "validation_generator = train_datagen.flow_from_directory(\n",
        "        '/content/drive/MyDrive/PIAIC/flower-recognition',\n",
        "        target_size=(180, 180),\n",
        "        batch_size=val_batch,\n",
        "        class_mode='categorical',\n",
        "        subset = 'validation',\n",
        "        shuffle= True)\n"
      ],
      "execution_count": null,
      "outputs": [
        {
          "output_type": "stream",
          "text": [
            "Found 2597 images belonging to 5 classes.\n",
            "Found 1726 images belonging to 5 classes.\n"
          ],
          "name": "stdout"
        }
      ]
    },
    {
      "cell_type": "code",
      "metadata": {
        "colab": {
          "base_uri": "https://localhost:8080/"
        },
        "id": "b0bOFVVALOAJ",
        "outputId": "b16d47f8-8afc-4fb4-96f3-cc70a3b9aa0e"
      },
      "source": [
        "len(validation_generator[172])"
      ],
      "execution_count": null,
      "outputs": [
        {
          "output_type": "execute_result",
          "data": {
            "text/plain": [
              "2"
            ]
          },
          "metadata": {
            "tags": []
          },
          "execution_count": 204
        }
      ]
    },
    {
      "cell_type": "code",
      "metadata": {
        "colab": {
          "base_uri": "https://localhost:8080/"
        },
        "id": "UB8ozJjNSVZD",
        "outputId": "f3b09372-1006-42f1-8b5c-fe4ba1f04632"
      },
      "source": [
        "validation_generator[172][1]"
      ],
      "execution_count": null,
      "outputs": [
        {
          "output_type": "execute_result",
          "data": {
            "text/plain": [
              "array([[1., 0., 0., 0., 0.],\n",
              "       [0., 1., 0., 0., 0.],\n",
              "       [0., 1., 0., 0., 0.],\n",
              "       [0., 0., 0., 0., 1.],\n",
              "       [0., 0., 0., 0., 1.],\n",
              "       [0., 0., 1., 0., 0.]], dtype=float32)"
            ]
          },
          "metadata": {
            "tags": []
          },
          "execution_count": 205
        }
      ]
    },
    {
      "cell_type": "code",
      "metadata": {
        "colab": {
          "base_uri": "https://localhost:8080/"
        },
        "id": "88KU41lmPH_K",
        "outputId": "b3a1aaa8-2bc0-4e68-e34e-d117eabbcb5e"
      },
      "source": [
        "validation_generator.labels"
      ],
      "execution_count": null,
      "outputs": [
        {
          "output_type": "execute_result",
          "data": {
            "text/plain": [
              "array([0, 0, 0, ..., 4, 4, 4], dtype=int32)"
            ]
          },
          "metadata": {
            "tags": []
          },
          "execution_count": 206
        }
      ]
    },
    {
      "cell_type": "code",
      "metadata": {
        "id": "abObSqFmLc1W"
      },
      "source": [
        ""
      ],
      "execution_count": null,
      "outputs": []
    },
    {
      "cell_type": "code",
      "metadata": {
        "colab": {
          "base_uri": "https://localhost:8080/"
        },
        "id": "s-R_4aLI_TDZ",
        "outputId": "7dd5228d-f43a-49ba-b88e-ce5603b613f5"
      },
      "source": [
        "train_generator.class_indices"
      ],
      "execution_count": null,
      "outputs": [
        {
          "output_type": "execute_result",
          "data": {
            "text/plain": [
              "{'daisy': 0, 'dandelion': 1, 'rose': 2, 'sunflower': 3, 'tulip': 4}"
            ]
          },
          "metadata": {
            "tags": []
          },
          "execution_count": 207
        }
      ]
    },
    {
      "cell_type": "code",
      "metadata": {
        "colab": {
          "base_uri": "https://localhost:8080/"
        },
        "id": "egZwLd-iJDED",
        "outputId": "91dd4e2f-3907-47a6-86f1-ac7ad2188f55"
      },
      "source": [
        "len(train_generator[129][1])"
      ],
      "execution_count": null,
      "outputs": [
        {
          "output_type": "execute_result",
          "data": {
            "text/plain": [
              "17"
            ]
          },
          "metadata": {
            "tags": []
          },
          "execution_count": 208
        }
      ]
    },
    {
      "cell_type": "code",
      "metadata": {
        "id": "n0kNKV8DatIC"
      },
      "source": [
        "#MOdels with COnv2D and Maxpooling\n",
        "model = tf.keras.models.Sequential([\n",
        "    # Note the input shape is the desired size of the image 150x150 with 3 bytes color\n",
        "    # This is the first convolution\n",
        "    tf.keras.layers.Conv2D(64, (3,3), activation='relu', input_shape=(180, 180, 3)),\n",
        "    tf.keras.layers.MaxPooling2D(2, 2),\n",
        "    # The second convolution\n",
        "    tf.keras.layers.Conv2D(64, (3,3), activation='relu'),\n",
        "    tf.keras.layers.MaxPooling2D(2,2),\n",
        "    # The third convolution\n",
        "    tf.keras.layers.Conv2D(32, (3,3), activation='relu'),\n",
        "    tf.keras.layers.MaxPooling2D(2,2),\n",
        "    # The fourth convolution\n",
        "    tf.keras.layers.Conv2D(16, (3,3), activation='relu'),\n",
        "    tf.keras.layers.MaxPooling2D(2,2),\n",
        "    # Flatten the results to feed into a DNN\n",
        "    tf.keras.layers.Flatten(),\n",
        "    tf.keras.layers.Dropout(0.5),\n",
        "    # 512 neuron hidden layer\n",
        "    tf.keras.layers.Dense(512, activation='relu'),\n",
        "    tf.keras.layers.Dense(5, activation='softmax')\n",
        "])"
      ],
      "execution_count": null,
      "outputs": []
    },
    {
      "cell_type": "code",
      "metadata": {
        "id": "2QFL7tA4D0Sa"
      },
      "source": [
        "model.compile(optimizer='adam',\n",
        "loss='categorical_crossentropy',\n",
        "metrics=['accuracy'])"
      ],
      "execution_count": null,
      "outputs": []
    },
    {
      "cell_type": "code",
      "metadata": {
        "id": "kBJbtQp1fhfx"
      },
      "source": [
        "%tensorflow_version 2.x\n",
        "import tensorflow as tf"
      ],
      "execution_count": null,
      "outputs": []
    },
    {
      "cell_type": "code",
      "metadata": {
        "colab": {
          "base_uri": "https://localhost:8080/"
        },
        "id": "mwG7_qctxUBl",
        "outputId": "741a29c7-4575-403f-be47-508788b76b16"
      },
      "source": [
        "with tf.device('/device:GPU:0'):\n",
        "  result = model.fit(\n",
        "          train_generator,\n",
        "          steps_per_epoch=30,\n",
        "          epochs=50,\n",
        "          validation_data=validation_generator,\n",
        "          validation_steps=30)"
      ],
      "execution_count": null,
      "outputs": [
        {
          "output_type": "stream",
          "text": [
            "Epoch 1/50\n",
            "30/30 [==============================] - 10s 308ms/step - loss: 1.5937 - accuracy: 0.2333 - val_loss: 1.4472 - val_accuracy: 0.3700\n",
            "Epoch 2/50\n",
            "30/30 [==============================] - 9s 301ms/step - loss: 1.3442 - accuracy: 0.4202 - val_loss: 1.1403 - val_accuracy: 0.4800\n",
            "Epoch 3/50\n",
            "30/30 [==============================] - 9s 301ms/step - loss: 1.2124 - accuracy: 0.4726 - val_loss: 1.2842 - val_accuracy: 0.4467\n",
            "Epoch 4/50\n",
            "30/30 [==============================] - 9s 299ms/step - loss: 1.1834 - accuracy: 0.5134 - val_loss: 1.1524 - val_accuracy: 0.5667\n",
            "Epoch 5/50\n",
            "30/30 [==============================] - 9s 302ms/step - loss: 1.1379 - accuracy: 0.5337 - val_loss: 1.0340 - val_accuracy: 0.5800\n",
            "Epoch 6/50\n",
            "30/30 [==============================] - 9s 312ms/step - loss: 1.2468 - accuracy: 0.4984 - val_loss: 1.0696 - val_accuracy: 0.5667\n",
            "Epoch 7/50\n",
            "30/30 [==============================] - 9s 297ms/step - loss: 1.0996 - accuracy: 0.5564 - val_loss: 1.1412 - val_accuracy: 0.5233\n",
            "Epoch 8/50\n",
            "30/30 [==============================] - 9s 301ms/step - loss: 1.0845 - accuracy: 0.5711 - val_loss: 1.1551 - val_accuracy: 0.5500\n",
            "Epoch 9/50\n",
            "30/30 [==============================] - 9s 299ms/step - loss: 1.1015 - accuracy: 0.5622 - val_loss: 1.0628 - val_accuracy: 0.5467\n",
            "Epoch 10/50\n",
            "30/30 [==============================] - 9s 302ms/step - loss: 1.0134 - accuracy: 0.5806 - val_loss: 0.9917 - val_accuracy: 0.6233\n",
            "Epoch 11/50\n",
            "30/30 [==============================] - 9s 301ms/step - loss: 0.9996 - accuracy: 0.5624 - val_loss: 1.0546 - val_accuracy: 0.5800\n",
            "Epoch 12/50\n",
            "30/30 [==============================] - 9s 298ms/step - loss: 0.9651 - accuracy: 0.6390 - val_loss: 0.9882 - val_accuracy: 0.6000\n",
            "Epoch 13/50\n",
            "30/30 [==============================] - 9s 298ms/step - loss: 0.9108 - accuracy: 0.6166 - val_loss: 1.0327 - val_accuracy: 0.6333\n",
            "Epoch 14/50\n",
            "30/30 [==============================] - 9s 300ms/step - loss: 0.9386 - accuracy: 0.6104 - val_loss: 0.9262 - val_accuracy: 0.6267\n",
            "Epoch 15/50\n",
            "30/30 [==============================] - 9s 298ms/step - loss: 0.9657 - accuracy: 0.6012 - val_loss: 0.9822 - val_accuracy: 0.5900\n",
            "Epoch 16/50\n",
            "30/30 [==============================] - 9s 293ms/step - loss: 0.9085 - accuracy: 0.6676 - val_loss: 0.8933 - val_accuracy: 0.6333\n",
            "Epoch 17/50\n",
            "30/30 [==============================] - 9s 294ms/step - loss: 0.8694 - accuracy: 0.6506 - val_loss: 0.9947 - val_accuracy: 0.6100\n",
            "Epoch 18/50\n",
            "30/30 [==============================] - 9s 296ms/step - loss: 0.8966 - accuracy: 0.6671 - val_loss: 1.0086 - val_accuracy: 0.6133\n",
            "Epoch 19/50\n",
            "30/30 [==============================] - 9s 296ms/step - loss: 0.9875 - accuracy: 0.6163 - val_loss: 0.9275 - val_accuracy: 0.6567\n",
            "Epoch 20/50\n",
            "30/30 [==============================] - 9s 295ms/step - loss: 0.8997 - accuracy: 0.6637 - val_loss: 0.9460 - val_accuracy: 0.6533\n",
            "Epoch 21/50\n",
            "30/30 [==============================] - 9s 294ms/step - loss: 0.9334 - accuracy: 0.6392 - val_loss: 1.0099 - val_accuracy: 0.6367\n",
            "Epoch 22/50\n",
            "30/30 [==============================] - 9s 294ms/step - loss: 0.8041 - accuracy: 0.7129 - val_loss: 0.9518 - val_accuracy: 0.6100\n",
            "Epoch 23/50\n",
            "30/30 [==============================] - 9s 294ms/step - loss: 0.9422 - accuracy: 0.6137 - val_loss: 0.8701 - val_accuracy: 0.6533\n",
            "Epoch 24/50\n",
            "30/30 [==============================] - 9s 295ms/step - loss: 0.8473 - accuracy: 0.6554 - val_loss: 0.9290 - val_accuracy: 0.6300\n",
            "Epoch 25/50\n",
            "30/30 [==============================] - 9s 297ms/step - loss: 0.8737 - accuracy: 0.6653 - val_loss: 0.8972 - val_accuracy: 0.6533\n",
            "Epoch 26/50\n",
            "30/30 [==============================] - 9s 295ms/step - loss: 0.9275 - accuracy: 0.6286 - val_loss: 0.8799 - val_accuracy: 0.6500\n",
            "Epoch 27/50\n",
            "30/30 [==============================] - 9s 296ms/step - loss: 0.8146 - accuracy: 0.6796 - val_loss: 0.9210 - val_accuracy: 0.6400\n",
            "Epoch 28/50\n",
            "30/30 [==============================] - 9s 304ms/step - loss: 0.8862 - accuracy: 0.6614 - val_loss: 0.8213 - val_accuracy: 0.7067\n",
            "Epoch 29/50\n",
            "30/30 [==============================] - 9s 300ms/step - loss: 0.8551 - accuracy: 0.6826 - val_loss: 0.8483 - val_accuracy: 0.6900\n",
            "Epoch 30/50\n",
            "30/30 [==============================] - 9s 299ms/step - loss: 0.8044 - accuracy: 0.7060 - val_loss: 1.0062 - val_accuracy: 0.5967\n",
            "Epoch 31/50\n",
            "30/30 [==============================] - 9s 295ms/step - loss: 0.8509 - accuracy: 0.6670 - val_loss: 0.9424 - val_accuracy: 0.6433\n",
            "Epoch 32/50\n",
            "30/30 [==============================] - 9s 296ms/step - loss: 0.8695 - accuracy: 0.6517 - val_loss: 1.0281 - val_accuracy: 0.6067\n",
            "Epoch 33/50\n",
            "30/30 [==============================] - 9s 300ms/step - loss: 0.8812 - accuracy: 0.6831 - val_loss: 0.9114 - val_accuracy: 0.6400\n",
            "Epoch 34/50\n",
            "30/30 [==============================] - 9s 292ms/step - loss: 0.8454 - accuracy: 0.6617 - val_loss: 0.9557 - val_accuracy: 0.6333\n",
            "Epoch 35/50\n",
            "30/30 [==============================] - 9s 291ms/step - loss: 0.8434 - accuracy: 0.6855 - val_loss: 0.9610 - val_accuracy: 0.6333\n",
            "Epoch 36/50\n",
            "30/30 [==============================] - 9s 297ms/step - loss: 0.8460 - accuracy: 0.6770 - val_loss: 0.9864 - val_accuracy: 0.6067\n",
            "Epoch 37/50\n",
            "30/30 [==============================] - 9s 298ms/step - loss: 0.8085 - accuracy: 0.6978 - val_loss: 0.8691 - val_accuracy: 0.6533\n",
            "Epoch 38/50\n",
            "30/30 [==============================] - 9s 295ms/step - loss: 0.7480 - accuracy: 0.7056 - val_loss: 0.9069 - val_accuracy: 0.6333\n",
            "Epoch 39/50\n",
            "30/30 [==============================] - 9s 297ms/step - loss: 0.7631 - accuracy: 0.7100 - val_loss: 0.6987 - val_accuracy: 0.7300\n",
            "Epoch 40/50\n",
            "30/30 [==============================] - 9s 298ms/step - loss: 0.7268 - accuracy: 0.7311 - val_loss: 0.9829 - val_accuracy: 0.6333\n",
            "Epoch 41/50\n",
            "30/30 [==============================] - 9s 298ms/step - loss: 0.9397 - accuracy: 0.6845 - val_loss: 0.8252 - val_accuracy: 0.6667\n",
            "Epoch 42/50\n",
            "30/30 [==============================] - 9s 294ms/step - loss: 0.8033 - accuracy: 0.6792 - val_loss: 0.8622 - val_accuracy: 0.6433\n",
            "Epoch 43/50\n",
            "30/30 [==============================] - 9s 295ms/step - loss: 0.7215 - accuracy: 0.7266 - val_loss: 0.9934 - val_accuracy: 0.6167\n",
            "Epoch 44/50\n",
            "30/30 [==============================] - 9s 297ms/step - loss: 0.8460 - accuracy: 0.6836 - val_loss: 0.9432 - val_accuracy: 0.6500\n",
            "Epoch 45/50\n",
            "30/30 [==============================] - 9s 295ms/step - loss: 0.7575 - accuracy: 0.7129 - val_loss: 0.8270 - val_accuracy: 0.6767\n",
            "Epoch 46/50\n",
            "30/30 [==============================] - 9s 299ms/step - loss: 0.7299 - accuracy: 0.7172 - val_loss: 0.8853 - val_accuracy: 0.6767\n",
            "Epoch 47/50\n",
            "30/30 [==============================] - 9s 293ms/step - loss: 0.7050 - accuracy: 0.7308 - val_loss: 0.9836 - val_accuracy: 0.6233\n",
            "Epoch 48/50\n",
            "30/30 [==============================] - 9s 292ms/step - loss: 0.7173 - accuracy: 0.7265 - val_loss: 0.8954 - val_accuracy: 0.6667\n",
            "Epoch 49/50\n",
            "30/30 [==============================] - 9s 293ms/step - loss: 0.6758 - accuracy: 0.7108 - val_loss: 0.8199 - val_accuracy: 0.6800\n",
            "Epoch 50/50\n",
            "30/30 [==============================] - 9s 296ms/step - loss: 0.7001 - accuracy: 0.7178 - val_loss: 0.8426 - val_accuracy: 0.6967\n"
          ],
          "name": "stdout"
        }
      ]
    },
    {
      "cell_type": "code",
      "metadata": {
        "id": "kAMVOUBUhcj9",
        "colab": {
          "base_uri": "https://localhost:8080/"
        },
        "outputId": "0df1b357-d970-46ac-87d1-0178d52c4148"
      },
      "source": [
        "model.evaluate(validation_generator)"
      ],
      "execution_count": null,
      "outputs": [
        {
          "output_type": "stream",
          "text": [
            "173/173 [==============================] - 19s 108ms/step - loss: 1.4870 - accuracy: 0.5556\n"
          ],
          "name": "stdout"
        },
        {
          "output_type": "execute_result",
          "data": {
            "text/plain": [
              "[1.4869943857192993, 0.5556199550628662]"
            ]
          },
          "metadata": {
            "tags": []
          },
          "execution_count": 189
        }
      ]
    },
    {
      "cell_type": "code",
      "metadata": {
        "id": "Ufw4FqsmU-g2",
        "colab": {
          "base_uri": "https://localhost:8080/"
        },
        "outputId": "9dcd8a3e-e578-4fe8-ea2f-822b43f993b2"
      },
      "source": [
        "x = result.history.keys()\n",
        "x"
      ],
      "execution_count": null,
      "outputs": [
        {
          "output_type": "execute_result",
          "data": {
            "text/plain": [
              "dict_keys(['loss', 'accuracy', 'val_loss', 'val_accuracy'])"
            ]
          },
          "metadata": {
            "tags": []
          },
          "execution_count": 190
        }
      ]
    },
    {
      "cell_type": "code",
      "metadata": {
        "colab": {
          "base_uri": "https://localhost:8080/",
          "height": 573
        },
        "id": "dOKPsS3HWwUn",
        "outputId": "3ec2aa79-6233-4dc7-a619-82f381a34ca6"
      },
      "source": [
        "\n",
        "# Visualize training history\n",
        "from keras.models import Sequential\n",
        "from keras.layers import Dense\n",
        "import matplotlib.pyplot as plt\n",
        "import numpy\n",
        "plt.plot(result.history['accuracy'])\n",
        "plt.plot(result.history['val_accuracy'])\n",
        "plt.title('model accuracy')\n",
        "plt.ylabel('accuracy')\n",
        "plt.xlabel('epoch')\n",
        "plt.legend(['train', 'test'], loc='upper left')\n",
        "plt.show()\n",
        "# summarize history for loss\n",
        "plt.plot(result.history['loss'])\n",
        "plt.plot(result.history['val_loss'])\n",
        "plt.title('model loss')\n",
        "plt.ylabel('loss')\n",
        "plt.xlabel('epoch')\n",
        "plt.legend(['train', 'test'], loc='upper left')\n",
        "plt.show()"
      ],
      "execution_count": null,
      "outputs": [
        {
          "output_type": "display_data",
          "data": {
            "image/png": "[encoded data removed]",
            "text/plain": [
              "<Figure size 432x288 with 1 Axes>"
            ]
          },
          "metadata": {
            "tags": [],
            "needs_background": "light"
          }
        },
        {
          "output_type": "display_data",
          "data": {
            "image/png": "[encoded data removed]",
            "text/plain": [
              "<Figure size 432x288 with 1 Axes>"
            ]
          },
          "metadata": {
            "tags": [],
            "needs_background": "light"
          }
        }
      ]
    },
    {
      "cell_type": "code",
      "metadata": {
        "id": "u7p4aMxliqvO"
      },
      "source": [
        "y_pred1 = model.predict(validation_generator)"
      ],
      "execution_count": null,
      "outputs": []
    },
    {
      "cell_type": "code",
      "metadata": {
        "colab": {
          "base_uri": "https://localhost:8080/"
        },
        "id": "-qhQ6JA_i0YM",
        "outputId": "69c10ca8-c839-4198-c2f9-fec96322be09"
      },
      "source": [
        "y_pred1.shape"
      ],
      "execution_count": null,
      "outputs": [
        {
          "output_type": "execute_result",
          "data": {
            "text/plain": [
              "(1726, 5)"
            ]
          },
          "metadata": {
            "tags": []
          },
          "execution_count": 193
        }
      ]
    },
    {
      "cell_type": "code",
      "metadata": {
        "id": "TRKNoHsBNvdR"
      },
      "source": [
        "list1 = []\n",
        "for i in range(0,len(validation_generator)):\n",
        "  for j in range(0,val_batch):\n",
        "    try:\n",
        "      list1.append(validation_generator[i][1][j].tolist())\n",
        "    except:\n",
        "      break"
      ],
      "execution_count": null,
      "outputs": []
    },
    {
      "cell_type": "code",
      "metadata": {
        "colab": {
          "base_uri": "https://localhost:8080/"
        },
        "id": "P9u0xdNxfeHl",
        "outputId": "17907a70-1335-4ce4-fe77-3b5f63d250d8"
      },
      "source": [
        "np.argmax(y_pred1, axis=1)[0:30]"
      ],
      "execution_count": null,
      "outputs": [
        {
          "output_type": "execute_result",
          "data": {
            "text/plain": [
              "array([3, 0, 1, 2, 4, 0, 0, 0, 3, 1, 0, 4, 1, 4, 1, 4, 3, 0, 2, 4, 0, 2,\n",
              "       0, 3, 3, 1, 0, 2, 0, 1])"
            ]
          },
          "metadata": {
            "tags": []
          },
          "execution_count": 218
        }
      ]
    },
    {
      "cell_type": "code",
      "metadata": {
        "colab": {
          "base_uri": "https://localhost:8080/"
        },
        "id": "sVy31j9On2U_",
        "outputId": "0e4895e7-c758-4c6a-8130-5944915aa105"
      },
      "source": [
        "np.argmax(list1[0:30],axis=1)"
      ],
      "execution_count": null,
      "outputs": [
        {
          "output_type": "execute_result",
          "data": {
            "text/plain": [
              "array([2, 4, 1, 1, 4, 4, 2, 1, 1, 1, 2, 4, 1, 4, 3, 4, 0, 3, 2, 4, 3, 1,\n",
              "       4, 3, 4, 2, 1, 0, 0, 0])"
            ]
          },
          "metadata": {
            "tags": []
          },
          "execution_count": 219
        }
      ]
    },
    {
      "cell_type": "code",
      "metadata": {
        "id": "gq1gUHQh_rJ5"
      },
      "source": [
        "# plt.figure(figsize = (20,20))\n",
        "# for i in range(10):\n",
        "#     img = train_datagen[600*i][0]\n",
        "#     plt.subplot(1,5,i+1)\n",
        "#     plt.imshow(img)\n",
        "#     plt.axis(\"off\")\n",
        "#     plt.title(train_datagen[600*i][1])\n",
        "# plt.show()"
      ],
      "execution_count": null,
      "outputs": []
    }
  ]
}