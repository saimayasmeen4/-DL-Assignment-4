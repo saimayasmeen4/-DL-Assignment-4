{
  "nbformat": 4,
  "nbformat_minor": 0,
  "metadata": {
    "colab": {
      "name": "Concrete Compressive Strength - Final.ipynb",
      "provenance": [],
      "collapsed_sections": []
    },
    "kernelspec": {
      "name": "python3",
      "display_name": "Python 3"
    }
  },
  "cells": [
    {
      "cell_type": "markdown",
      "metadata": {
        "id": "vCfzG05MD6k0"
      },
      "source": [
        "**Importing the libraries**"
      ]
    },
    {
      "cell_type": "code",
      "metadata": {
        "id": "A0B98c-oyfXq"
      },
      "source": [
        "import tensorflow as tf\n",
        "import pandas as pd\n",
        "import numpy as np\n",
        "import matplotlib.pyplot as plt\n",
        "from keras import models\n",
        "from keras import layers\n",
        "from sklearn.model_selection import train_test_split\n",
        "from keras import regularizers"
      ],
      "execution_count": 1,
      "outputs": []
    },
    {
      "cell_type": "markdown",
      "metadata": {
        "id": "J2vUU71yDueo"
      },
      "source": [
        "**Loading the File**"
      ]
    },
    {
      "cell_type": "code",
      "metadata": {
        "colab": {
          "resources": {
            "http://localhost:8080/nbextensions/google.colab/files.js": {
              "data": "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",
              "ok": true,
              "headers": [
                [
                  "content-type",
                  "application/javascript"
                ]
              ],
              "status": 200,
              "status_text": ""
            }
          },
          "base_uri": "https://localhost:8080/",
          "height": 73
        },
        "id": "uN7k798QymoS",
        "outputId": "5fc0efa5-ff9c-4f1e-b403-98139ba7e639"
      },
      "source": [
        "from google.colab import files\n",
        "uploaded = files.upload()"
      ],
      "execution_count": 2,
      "outputs": [
        {
          "output_type": "display_data",
          "data": {
            "text/html": [
              "\n",
              "     <input type=\"file\" id=\"files-0bc33050-7315-4398-a545-d34bae93811b\" name=\"files[]\" multiple disabled\n",
              "        style=\"border:none\" />\n",
              "     <output id=\"result-0bc33050-7315-4398-a545-d34bae93811b\">\n",
              "      Upload widget is only available when the cell has been executed in the\n",
              "      current browser session. Please rerun this cell to enable.\n",
              "      </output>\n",
              "      <script src=\"/nbextensions/google.colab/files.js\"></script> "
            ],
            "text/plain": [
              "<IPython.core.display.HTML object>"
            ]
          },
          "metadata": {
            "tags": []
          }
        },
        {
          "output_type": "stream",
          "text": [
            "Saving compresive_strength_concrete.csv to compresive_strength_concrete (3).csv\n"
          ],
          "name": "stdout"
        }
      ]
    },
    {
      "cell_type": "code",
      "metadata": {
        "id": "oFlfIc2EynYt"
      },
      "source": [
        "import io\n",
        "df= pd.read_csv(io.BytesIO(uploaded[\"compresive_strength_concrete.csv\"]))"
      ],
      "execution_count": 3,
      "outputs": []
    },
    {
      "cell_type": "code",
      "metadata": {
        "id": "laSgq_Bby-Ni"
      },
      "source": [
        "normalized_data=df.copy()\n",
        "\n",
        "x_data = normalized_data.iloc[:,:8]\n",
        "x_label = normalized_data.iloc[:,-1:]\n"
      ],
      "execution_count": 4,
      "outputs": []
    },
    {
      "cell_type": "markdown",
      "metadata": {
        "id": "HiAd2bc5Tm8H"
      },
      "source": [
        "**Split Traning and Testing data**"
      ]
    },
    {
      "cell_type": "code",
      "metadata": {
        "id": "P9DnWpeyzCnM"
      },
      "source": [
        "train_data, test_data, train_labels, test_labels = train_test_split(x_data, x_label, test_size = 0.3, random_state = 1)"
      ],
      "execution_count": 5,
      "outputs": []
    },
    {
      "cell_type": "code",
      "metadata": {
        "id": "3B0om9fxh-Li"
      },
      "source": [
        "train_labels=np.asarray(train_labels).astype(dtype=\"float64\")\n",
        "test_labels=np.asarray(test_labels).astype(dtype=\"float64\")\n",
        "\n",
        "mean = train_data.mean(axis=0)\n",
        "std = train_data.std(axis=0)\n",
        "train_data= (train_data-mean)/std\n",
        "test_data = (test_data-mean)/std\n"
      ],
      "execution_count": 6,
      "outputs": []
    },
    {
      "cell_type": "markdown",
      "metadata": {
        "id": "j2J6GB5MDH4_"
      },
      "source": [
        "**Building the Network**"
      ]
    },
    {
      "cell_type": "code",
      "metadata": {
        "id": "cz3dJzrMzFA5"
      },
      "source": [
        "model = models.Sequential()\n",
        "model.add(layers.Dense(96, kernel_regularizer=regularizers.l1(l1=.001), activation = \"relu\", input_shape=(train_data.shape[1],)))\n",
        "model.add(layers.Dense(10, kernel_regularizer=regularizers.l1(l1=.001),activation=\"relu\"))\n",
        "model.add(layers.Dense(8, kernel_regularizer=regularizers.l1(l1=.001),activation=\"relu\"))\n",
        "model.add(layers.Dense(6, kernel_regularizer=regularizers.l1(l1=.001),activation=\"relu\"))\n",
        "model.add(layers.Dense(1))\n",
        "model.compile(optimizer=\"rmsprop\", loss=\"mse\", metrics=[\"mae\"])"
      ],
      "execution_count": 7,
      "outputs": []
    },
    {
      "cell_type": "markdown",
      "metadata": {
        "id": "_vAv0RaOC7rE"
      },
      "source": [
        "**Compiling the Netwrok**"
      ]
    },
    {
      "cell_type": "code",
      "metadata": {
        "colab": {
          "base_uri": "https://localhost:8080/"
        },
        "id": "DcWQzC4zzogz",
        "outputId": "c3a38db6-add3-437a-9eb7-f82afdec4dca"
      },
      "source": [
        "history=model.fit(train_data, train_labels, epochs=100 , validation_split=.2)\n"
      ],
      "execution_count": 8,
      "outputs": [
        {
          "output_type": "stream",
          "text": [
            "Epoch 1/100\n",
            "18/18 [==============================] - 1s 32ms/step - loss: 1499.0321 - mae: 34.8089 - val_loss: 1535.0205 - val_mae: 35.0949\n",
            "Epoch 2/100\n",
            "18/18 [==============================] - 0s 4ms/step - loss: 1397.9573 - mae: 33.3546 - val_loss: 1419.5813 - val_mae: 33.4665\n",
            "Epoch 3/100\n",
            "18/18 [==============================] - 0s 4ms/step - loss: 1313.5799 - mae: 32.2387 - val_loss: 1266.9678 - val_mae: 31.2429\n",
            "Epoch 4/100\n",
            "18/18 [==============================] - 0s 4ms/step - loss: 1145.0411 - mae: 29.6302 - val_loss: 1077.9415 - val_mae: 28.2894\n",
            "Epoch 5/100\n",
            "18/18 [==============================] - 0s 4ms/step - loss: 921.4064 - mae: 26.2573 - val_loss: 856.9715 - val_mae: 24.5251\n",
            "Epoch 6/100\n",
            "18/18 [==============================] - 0s 4ms/step - loss: 730.7735 - mae: 22.4692 - val_loss: 629.0082 - val_mae: 20.1822\n",
            "Epoch 7/100\n",
            "18/18 [==============================] - 0s 4ms/step - loss: 501.1344 - mae: 18.0311 - val_loss: 425.0122 - val_mae: 15.9693\n",
            "Epoch 8/100\n",
            "18/18 [==============================] - 0s 4ms/step - loss: 349.0649 - mae: 15.1054 - val_loss: 288.0844 - val_mae: 13.0429\n",
            "Epoch 9/100\n",
            "18/18 [==============================] - 0s 4ms/step - loss: 227.1842 - mae: 12.1273 - val_loss: 218.6627 - val_mae: 11.6000\n",
            "Epoch 10/100\n",
            "18/18 [==============================] - 0s 4ms/step - loss: 192.3828 - mae: 11.2453 - val_loss: 198.6177 - val_mae: 11.1473\n",
            "Epoch 11/100\n",
            "18/18 [==============================] - 0s 4ms/step - loss: 184.8521 - mae: 10.9641 - val_loss: 188.5948 - val_mae: 10.8931\n",
            "Epoch 12/100\n",
            "18/18 [==============================] - 0s 5ms/step - loss: 177.2428 - mae: 10.8761 - val_loss: 180.2908 - val_mae: 10.6717\n",
            "Epoch 13/100\n",
            "18/18 [==============================] - 0s 4ms/step - loss: 164.6561 - mae: 10.4430 - val_loss: 174.9012 - val_mae: 10.5122\n",
            "Epoch 14/100\n",
            "18/18 [==============================] - 0s 4ms/step - loss: 156.7098 - mae: 10.2561 - val_loss: 171.0382 - val_mae: 10.4131\n",
            "Epoch 15/100\n",
            "18/18 [==============================] - 0s 4ms/step - loss: 165.5783 - mae: 10.2246 - val_loss: 163.4058 - val_mae: 10.2248\n",
            "Epoch 16/100\n",
            "18/18 [==============================] - 0s 4ms/step - loss: 146.7343 - mae: 9.7756 - val_loss: 160.0577 - val_mae: 10.1268\n",
            "Epoch 17/100\n",
            "18/18 [==============================] - 0s 4ms/step - loss: 165.0516 - mae: 10.5614 - val_loss: 157.4212 - val_mae: 10.0452\n",
            "Epoch 18/100\n",
            "18/18 [==============================] - 0s 4ms/step - loss: 143.9865 - mae: 9.8717 - val_loss: 153.6679 - val_mae: 9.9210\n",
            "Epoch 19/100\n",
            "18/18 [==============================] - 0s 4ms/step - loss: 133.1397 - mae: 9.3029 - val_loss: 152.4373 - val_mae: 9.8816\n",
            "Epoch 20/100\n",
            "18/18 [==============================] - 0s 4ms/step - loss: 145.6411 - mae: 9.9449 - val_loss: 146.5559 - val_mae: 9.7033\n",
            "Epoch 21/100\n",
            "18/18 [==============================] - 0s 4ms/step - loss: 140.6770 - mae: 9.5580 - val_loss: 143.9642 - val_mae: 9.6252\n",
            "Epoch 22/100\n",
            "18/18 [==============================] - 0s 4ms/step - loss: 128.1384 - mae: 9.1681 - val_loss: 142.5165 - val_mae: 9.5719\n",
            "Epoch 23/100\n",
            "18/18 [==============================] - 0s 4ms/step - loss: 135.8529 - mae: 9.5231 - val_loss: 142.6282 - val_mae: 9.5739\n",
            "Epoch 24/100\n",
            "18/18 [==============================] - 0s 4ms/step - loss: 125.1323 - mae: 9.1059 - val_loss: 139.5872 - val_mae: 9.4811\n",
            "Epoch 25/100\n",
            "18/18 [==============================] - 0s 4ms/step - loss: 127.9739 - mae: 9.0647 - val_loss: 136.8127 - val_mae: 9.3619\n",
            "Epoch 26/100\n",
            "18/18 [==============================] - 0s 4ms/step - loss: 132.1833 - mae: 9.2796 - val_loss: 136.7193 - val_mae: 9.4015\n",
            "Epoch 27/100\n",
            "18/18 [==============================] - 0s 4ms/step - loss: 121.7620 - mae: 8.9975 - val_loss: 137.2363 - val_mae: 9.4146\n",
            "Epoch 28/100\n",
            "18/18 [==============================] - 0s 4ms/step - loss: 122.1687 - mae: 9.0542 - val_loss: 132.8121 - val_mae: 9.2414\n",
            "Epoch 29/100\n",
            "18/18 [==============================] - 0s 4ms/step - loss: 125.5810 - mae: 9.0678 - val_loss: 130.4325 - val_mae: 9.1637\n",
            "Epoch 30/100\n",
            "18/18 [==============================] - 0s 4ms/step - loss: 118.0842 - mae: 8.7800 - val_loss: 128.8025 - val_mae: 9.1119\n",
            "Epoch 31/100\n",
            "18/18 [==============================] - 0s 4ms/step - loss: 114.0012 - mae: 8.6434 - val_loss: 127.6598 - val_mae: 9.0837\n",
            "Epoch 32/100\n",
            "18/18 [==============================] - 0s 4ms/step - loss: 124.0752 - mae: 9.1121 - val_loss: 127.6223 - val_mae: 9.1050\n",
            "Epoch 33/100\n",
            "18/18 [==============================] - 0s 4ms/step - loss: 114.2980 - mae: 8.6946 - val_loss: 124.9483 - val_mae: 9.0118\n",
            "Epoch 34/100\n",
            "18/18 [==============================] - 0s 4ms/step - loss: 107.2450 - mae: 8.3280 - val_loss: 123.9264 - val_mae: 8.9672\n",
            "Epoch 35/100\n",
            "18/18 [==============================] - 0s 4ms/step - loss: 105.2194 - mae: 8.2515 - val_loss: 121.8290 - val_mae: 8.9068\n",
            "Epoch 36/100\n",
            "18/18 [==============================] - 0s 4ms/step - loss: 103.4456 - mae: 8.1641 - val_loss: 120.5072 - val_mae: 8.8463\n",
            "Epoch 37/100\n",
            "18/18 [==============================] - 0s 4ms/step - loss: 101.4848 - mae: 8.1440 - val_loss: 119.1407 - val_mae: 8.7888\n",
            "Epoch 38/100\n",
            "18/18 [==============================] - 0s 4ms/step - loss: 99.6268 - mae: 8.0366 - val_loss: 118.7656 - val_mae: 8.7907\n",
            "Epoch 39/100\n",
            "18/18 [==============================] - 0s 4ms/step - loss: 99.9306 - mae: 8.0390 - val_loss: 119.5917 - val_mae: 8.8624\n",
            "Epoch 40/100\n",
            "18/18 [==============================] - 0s 4ms/step - loss: 96.3202 - mae: 7.8602 - val_loss: 115.2409 - val_mae: 8.6213\n",
            "Epoch 41/100\n",
            "18/18 [==============================] - 0s 4ms/step - loss: 96.1720 - mae: 7.8341 - val_loss: 114.0238 - val_mae: 8.5999\n",
            "Epoch 42/100\n",
            "18/18 [==============================] - 0s 4ms/step - loss: 99.0731 - mae: 7.9083 - val_loss: 115.6970 - val_mae: 8.6839\n",
            "Epoch 43/100\n",
            "18/18 [==============================] - 0s 5ms/step - loss: 105.0096 - mae: 8.2030 - val_loss: 111.9789 - val_mae: 8.5251\n",
            "Epoch 44/100\n",
            "18/18 [==============================] - 0s 4ms/step - loss: 91.2677 - mae: 7.5621 - val_loss: 109.9775 - val_mae: 8.4405\n",
            "Epoch 45/100\n",
            "18/18 [==============================] - 0s 4ms/step - loss: 101.1126 - mae: 8.1203 - val_loss: 108.4100 - val_mae: 8.3793\n",
            "Epoch 46/100\n",
            "18/18 [==============================] - 0s 4ms/step - loss: 97.6867 - mae: 7.8612 - val_loss: 106.6711 - val_mae: 8.3066\n",
            "Epoch 47/100\n",
            "18/18 [==============================] - 0s 4ms/step - loss: 87.3658 - mae: 7.4419 - val_loss: 105.2981 - val_mae: 8.2430\n",
            "Epoch 48/100\n",
            "18/18 [==============================] - 0s 4ms/step - loss: 85.3014 - mae: 7.3776 - val_loss: 108.9497 - val_mae: 8.4045\n",
            "Epoch 49/100\n",
            "18/18 [==============================] - 0s 4ms/step - loss: 90.3732 - mae: 7.6948 - val_loss: 101.8335 - val_mae: 8.0851\n",
            "Epoch 50/100\n",
            "18/18 [==============================] - 0s 4ms/step - loss: 83.3003 - mae: 7.3044 - val_loss: 101.3025 - val_mae: 8.0840\n",
            "Epoch 51/100\n",
            "18/18 [==============================] - 0s 4ms/step - loss: 84.0430 - mae: 7.3598 - val_loss: 98.7956 - val_mae: 7.9336\n",
            "Epoch 52/100\n",
            "18/18 [==============================] - 0s 4ms/step - loss: 86.8354 - mae: 7.4170 - val_loss: 97.5255 - val_mae: 7.8988\n",
            "Epoch 53/100\n",
            "18/18 [==============================] - 0s 4ms/step - loss: 86.0904 - mae: 7.4057 - val_loss: 96.7359 - val_mae: 7.8884\n",
            "Epoch 54/100\n",
            "18/18 [==============================] - 0s 4ms/step - loss: 75.9388 - mae: 7.0505 - val_loss: 94.2068 - val_mae: 7.7681\n",
            "Epoch 55/100\n",
            "18/18 [==============================] - 0s 4ms/step - loss: 74.6229 - mae: 6.9109 - val_loss: 91.9185 - val_mae: 7.6450\n",
            "Epoch 56/100\n",
            "18/18 [==============================] - 0s 4ms/step - loss: 76.6416 - mae: 6.9164 - val_loss: 90.7825 - val_mae: 7.5475\n",
            "Epoch 57/100\n",
            "18/18 [==============================] - 0s 4ms/step - loss: 79.9804 - mae: 7.1476 - val_loss: 88.2651 - val_mae: 7.3773\n",
            "Epoch 58/100\n",
            "18/18 [==============================] - 0s 4ms/step - loss: 70.4951 - mae: 6.7251 - val_loss: 87.3483 - val_mae: 7.3563\n",
            "Epoch 59/100\n",
            "18/18 [==============================] - 0s 4ms/step - loss: 64.9762 - mae: 6.3578 - val_loss: 85.5672 - val_mae: 7.3569\n",
            "Epoch 60/100\n",
            "18/18 [==============================] - 0s 4ms/step - loss: 61.8938 - mae: 6.2763 - val_loss: 82.7378 - val_mae: 7.1861\n",
            "Epoch 61/100\n",
            "18/18 [==============================] - 0s 4ms/step - loss: 57.6361 - mae: 6.1538 - val_loss: 81.1991 - val_mae: 7.1264\n",
            "Epoch 62/100\n",
            "18/18 [==============================] - 0s 4ms/step - loss: 62.9019 - mae: 6.2489 - val_loss: 79.7713 - val_mae: 7.0472\n",
            "Epoch 63/100\n",
            "18/18 [==============================] - 0s 4ms/step - loss: 66.3228 - mae: 6.3895 - val_loss: 78.1102 - val_mae: 6.9439\n",
            "Epoch 64/100\n",
            "18/18 [==============================] - 0s 4ms/step - loss: 56.6691 - mae: 5.9067 - val_loss: 76.1482 - val_mae: 6.8108\n",
            "Epoch 65/100\n",
            "18/18 [==============================] - 0s 4ms/step - loss: 54.3793 - mae: 5.8190 - val_loss: 75.4589 - val_mae: 6.7808\n",
            "Epoch 66/100\n",
            "18/18 [==============================] - 0s 5ms/step - loss: 57.3568 - mae: 5.8223 - val_loss: 74.9558 - val_mae: 6.7802\n",
            "Epoch 67/100\n",
            "18/18 [==============================] - 0s 4ms/step - loss: 55.5017 - mae: 5.7498 - val_loss: 73.4934 - val_mae: 6.6733\n",
            "Epoch 68/100\n",
            "18/18 [==============================] - 0s 4ms/step - loss: 53.3388 - mae: 5.6716 - val_loss: 70.8496 - val_mae: 6.4993\n",
            "Epoch 69/100\n",
            "18/18 [==============================] - 0s 4ms/step - loss: 48.1949 - mae: 5.3349 - val_loss: 70.0781 - val_mae: 6.4334\n",
            "Epoch 70/100\n",
            "18/18 [==============================] - 0s 4ms/step - loss: 48.8964 - mae: 5.4876 - val_loss: 69.4563 - val_mae: 6.4708\n",
            "Epoch 71/100\n",
            "18/18 [==============================] - 0s 4ms/step - loss: 47.6500 - mae: 5.3983 - val_loss: 68.9704 - val_mae: 6.4028\n",
            "Epoch 72/100\n",
            "18/18 [==============================] - 0s 4ms/step - loss: 51.5411 - mae: 5.5915 - val_loss: 67.5028 - val_mae: 6.2536\n",
            "Epoch 73/100\n",
            "18/18 [==============================] - 0s 4ms/step - loss: 46.6528 - mae: 5.2924 - val_loss: 66.5288 - val_mae: 6.2640\n",
            "Epoch 74/100\n",
            "18/18 [==============================] - 0s 4ms/step - loss: 48.4987 - mae: 5.3380 - val_loss: 67.1965 - val_mae: 6.2595\n",
            "Epoch 75/100\n",
            "18/18 [==============================] - 0s 4ms/step - loss: 50.1376 - mae: 5.4002 - val_loss: 63.0082 - val_mae: 6.0592\n",
            "Epoch 76/100\n",
            "18/18 [==============================] - 0s 4ms/step - loss: 45.7173 - mae: 5.2669 - val_loss: 62.9219 - val_mae: 6.0261\n",
            "Epoch 77/100\n",
            "18/18 [==============================] - 0s 4ms/step - loss: 45.4156 - mae: 5.1723 - val_loss: 61.9981 - val_mae: 5.9958\n",
            "Epoch 78/100\n",
            "18/18 [==============================] - 0s 4ms/step - loss: 46.1874 - mae: 5.1991 - val_loss: 61.2463 - val_mae: 5.9850\n",
            "Epoch 79/100\n",
            "18/18 [==============================] - 0s 5ms/step - loss: 42.8214 - mae: 5.0628 - val_loss: 60.2601 - val_mae: 5.9315\n",
            "Epoch 80/100\n",
            "18/18 [==============================] - 0s 4ms/step - loss: 44.8890 - mae: 5.1882 - val_loss: 59.6783 - val_mae: 5.8748\n",
            "Epoch 81/100\n",
            "18/18 [==============================] - 0s 4ms/step - loss: 45.6693 - mae: 5.0835 - val_loss: 58.8247 - val_mae: 5.8176\n",
            "Epoch 82/100\n",
            "18/18 [==============================] - 0s 4ms/step - loss: 45.0653 - mae: 5.1452 - val_loss: 60.3135 - val_mae: 5.9687\n",
            "Epoch 83/100\n",
            "18/18 [==============================] - 0s 5ms/step - loss: 43.1846 - mae: 5.0430 - val_loss: 58.3814 - val_mae: 5.7961\n",
            "Epoch 84/100\n",
            "18/18 [==============================] - 0s 4ms/step - loss: 40.8426 - mae: 4.8764 - val_loss: 57.9334 - val_mae: 5.8164\n",
            "Epoch 85/100\n",
            "18/18 [==============================] - 0s 4ms/step - loss: 44.6590 - mae: 5.1542 - val_loss: 56.2996 - val_mae: 5.7508\n",
            "Epoch 86/100\n",
            "18/18 [==============================] - 0s 4ms/step - loss: 41.1921 - mae: 4.8418 - val_loss: 58.0713 - val_mae: 5.8555\n",
            "Epoch 87/100\n",
            "18/18 [==============================] - 0s 4ms/step - loss: 37.3270 - mae: 4.6484 - val_loss: 55.9842 - val_mae: 5.7725\n",
            "Epoch 88/100\n",
            "18/18 [==============================] - 0s 4ms/step - loss: 42.3715 - mae: 4.9763 - val_loss: 55.1610 - val_mae: 5.6790\n",
            "Epoch 89/100\n",
            "18/18 [==============================] - 0s 4ms/step - loss: 41.0614 - mae: 4.8420 - val_loss: 55.0417 - val_mae: 5.7016\n",
            "Epoch 90/100\n",
            "18/18 [==============================] - 0s 4ms/step - loss: 39.3470 - mae: 4.8873 - val_loss: 58.3519 - val_mae: 5.7517\n",
            "Epoch 91/100\n",
            "18/18 [==============================] - 0s 4ms/step - loss: 38.6665 - mae: 4.7541 - val_loss: 55.8345 - val_mae: 5.8001\n",
            "Epoch 92/100\n",
            "18/18 [==============================] - 0s 4ms/step - loss: 41.5282 - mae: 5.0054 - val_loss: 54.4021 - val_mae: 5.7080\n",
            "Epoch 93/100\n",
            "18/18 [==============================] - 0s 4ms/step - loss: 38.1780 - mae: 4.7074 - val_loss: 54.2565 - val_mae: 5.6821\n",
            "Epoch 94/100\n",
            "18/18 [==============================] - 0s 5ms/step - loss: 36.9941 - mae: 4.6015 - val_loss: 53.7500 - val_mae: 5.6181\n",
            "Epoch 95/100\n",
            "18/18 [==============================] - 0s 4ms/step - loss: 37.9691 - mae: 4.7726 - val_loss: 53.5984 - val_mae: 5.5874\n",
            "Epoch 96/100\n",
            "18/18 [==============================] - 0s 4ms/step - loss: 35.9904 - mae: 4.5815 - val_loss: 51.9203 - val_mae: 5.4928\n",
            "Epoch 97/100\n",
            "18/18 [==============================] - 0s 4ms/step - loss: 35.1680 - mae: 4.5770 - val_loss: 52.7042 - val_mae: 5.6296\n",
            "Epoch 98/100\n",
            "18/18 [==============================] - 0s 4ms/step - loss: 34.8874 - mae: 4.5920 - val_loss: 52.0050 - val_mae: 5.5271\n",
            "Epoch 99/100\n",
            "18/18 [==============================] - 0s 4ms/step - loss: 34.9444 - mae: 4.5600 - val_loss: 53.3040 - val_mae: 5.6332\n",
            "Epoch 100/100\n",
            "18/18 [==============================] - 0s 4ms/step - loss: 33.8641 - mae: 4.4298 - val_loss: 51.4229 - val_mae: 5.4693\n"
          ],
          "name": "stdout"
        }
      ]
    },
    {
      "cell_type": "code",
      "metadata": {
        "colab": {
          "base_uri": "https://localhost:8080/",
          "height": 279
        },
        "id": "GllVDdGI0A2X",
        "outputId": "b70ee69e-1ac6-4a00-e287-f5b510f19eb5"
      },
      "source": [
        "loss=history.history[\"loss\"]\n",
        "val_loss=history.history[\"val_loss\"]\n",
        "epochs=range(1, len(loss)+1)\n",
        "plt.plot(epochs[30:], loss[30:], \"bo\", label=\"Training Loss\")\n",
        "plt.plot(epochs[30:], val_loss[30:], \"b\", label=\"Validation Loss\")\n",
        "plt.xlabel(\"Epochs\")\n",
        "plt.ylabel(\"Loss\")\n",
        "plt.legend()\n",
        "plt.show()"
      ],
      "execution_count": 9,
      "outputs": [
        {
          "output_type": "display_data",
          "data": {
            "image/png": "[encoded data removed]",
            "text/plain": [
              "<Figure size 432x288 with 1 Axes>"
            ]
          },
          "metadata": {
            "tags": [],
            "needs_background": "light"
          }
        }
      ]
    },
    {
      "cell_type": "code",
      "metadata": {
        "colab": {
          "base_uri": "https://localhost:8080/",
          "height": 279
        },
        "id": "EyUMzk-LBrqM",
        "outputId": "c4788bfc-74e3-4b15-9f8c-1923016274e9"
      },
      "source": [
        "mae=history.history[\"mae\"]\n",
        "val_mae=history.history[\"val_mae\"]\n",
        "epochs=range(1, len(mae)+1)\n",
        "plt.plot(epochs[20:], loss[20:], \"bo\", label=\"Training MAE\")\n",
        "plt.plot(epochs[20:], val_loss[20:], \"b\", label=\"Validation MAE\")\n",
        "plt.xlabel(\"Epochs\")\n",
        "plt.ylabel(\"MAE\")\n",
        "plt.legend()\n",
        "plt.show()"
      ],
      "execution_count": 10,
      "outputs": [
        {
          "output_type": "display_data",
          "data": {
            "image/png": "[encoded data removed]",
            "text/plain": [
              "<Figure size 432x288 with 1 Axes>"
            ]
          },
          "metadata": {
            "tags": [],
            "needs_background": "light"
          }
        }
      ]
    },
    {
      "cell_type": "markdown",
      "metadata": {
        "id": "vQ5IeqhxBMz7"
      },
      "source": [
        "**Building The final Network**"
      ]
    },
    {
      "cell_type": "code",
      "metadata": {
        "id": "Jo662eefBLTv"
      },
      "source": [
        "model = models.Sequential()\n",
        "model.add(layers.Dense(96, kernel_regularizer=regularizers.l1(l1=.001), activation = \"relu\", input_shape=(train_data.shape[1],)))\n",
        "model.add(layers.Dense(10, kernel_regularizer=regularizers.l1(l1=.001),activation=\"relu\"))\n",
        "model.add(layers.Dense(8, kernel_regularizer=regularizers.l1(l1=.001),activation=\"relu\"))\n",
        "model.add(layers.Dense(6, kernel_regularizer=regularizers.l1(l1=.001),activation=\"relu\"))\n",
        "model.add(layers.Dense(1))\n",
        "model.compile(optimizer=\"rmsprop\", loss=\"mse\", metrics=[\"mae\"])"
      ],
      "execution_count": 11,
      "outputs": []
    },
    {
      "cell_type": "markdown",
      "metadata": {
        "id": "YzuCKiPNBWvo"
      },
      "source": [
        "**Compiling the Final Netwrok**"
      ]
    },
    {
      "cell_type": "code",
      "metadata": {
        "colab": {
          "base_uri": "https://localhost:8080/"
        },
        "id": "M0nheDwTBXJn",
        "outputId": "856ad6c4-43b0-4f28-ff92-e81ad9707a3c"
      },
      "source": [
        "model.fit(train_data, train_labels, epochs=100)"
      ],
      "execution_count": 12,
      "outputs": [
        {
          "output_type": "stream",
          "text": [
            "Epoch 1/100\n",
            "23/23 [==============================] - 1s 1ms/step - loss: 1546.1007 - mae: 35.3880\n",
            "Epoch 2/100\n",
            "23/23 [==============================] - 0s 1ms/step - loss: 1354.3876 - mae: 32.7662\n",
            "Epoch 3/100\n",
            "23/23 [==============================] - 0s 2ms/step - loss: 1181.2200 - mae: 30.2138\n",
            "Epoch 4/100\n",
            "23/23 [==============================] - 0s 1ms/step - loss: 931.4902 - mae: 26.3455\n",
            "Epoch 5/100\n",
            "23/23 [==============================] - 0s 1ms/step - loss: 610.8672 - mae: 20.1107\n",
            "Epoch 6/100\n",
            "23/23 [==============================] - 0s 2ms/step - loss: 393.9441 - mae: 15.6380\n",
            "Epoch 7/100\n",
            "23/23 [==============================] - 0s 1ms/step - loss: 230.7878 - mae: 12.0821\n",
            "Epoch 8/100\n",
            "23/23 [==============================] - 0s 2ms/step - loss: 176.6698 - mae: 10.6375\n",
            "Epoch 9/100\n",
            "23/23 [==============================] - 0s 1ms/step - loss: 187.2464 - mae: 10.9627\n",
            "Epoch 10/100\n",
            "23/23 [==============================] - 0s 1ms/step - loss: 184.5753 - mae: 10.9873\n",
            "Epoch 11/100\n",
            "23/23 [==============================] - 0s 1ms/step - loss: 162.5457 - mae: 10.0993\n",
            "Epoch 12/100\n",
            "23/23 [==============================] - 0s 1ms/step - loss: 150.2778 - mae: 10.1050\n",
            "Epoch 13/100\n",
            "23/23 [==============================] - 0s 1ms/step - loss: 151.2921 - mae: 9.9820\n",
            "Epoch 14/100\n",
            "23/23 [==============================] - 0s 2ms/step - loss: 150.5549 - mae: 10.0402\n",
            "Epoch 15/100\n",
            "23/23 [==============================] - 0s 1ms/step - loss: 133.9957 - mae: 9.3714\n",
            "Epoch 16/100\n",
            "23/23 [==============================] - 0s 1ms/step - loss: 118.6776 - mae: 8.9071\n",
            "Epoch 17/100\n",
            "23/23 [==============================] - 0s 1ms/step - loss: 134.1525 - mae: 9.3793\n",
            "Epoch 18/100\n",
            "23/23 [==============================] - 0s 1ms/step - loss: 133.2456 - mae: 9.3604\n",
            "Epoch 19/100\n",
            "23/23 [==============================] - 0s 1ms/step - loss: 121.4497 - mae: 8.9091\n",
            "Epoch 20/100\n",
            "23/23 [==============================] - 0s 2ms/step - loss: 117.8353 - mae: 8.7569\n",
            "Epoch 21/100\n",
            "23/23 [==============================] - 0s 1ms/step - loss: 128.3213 - mae: 9.1930\n",
            "Epoch 22/100\n",
            "23/23 [==============================] - 0s 1ms/step - loss: 115.3268 - mae: 8.7204\n",
            "Epoch 23/100\n",
            "23/23 [==============================] - 0s 1ms/step - loss: 119.6290 - mae: 8.9662\n",
            "Epoch 24/100\n",
            "23/23 [==============================] - 0s 1ms/step - loss: 109.1743 - mae: 8.4600\n",
            "Epoch 25/100\n",
            "23/23 [==============================] - 0s 1ms/step - loss: 103.9783 - mae: 8.2657\n",
            "Epoch 26/100\n",
            "23/23 [==============================] - 0s 1ms/step - loss: 107.9537 - mae: 8.4603\n",
            "Epoch 27/100\n",
            "23/23 [==============================] - 0s 1ms/step - loss: 102.1455 - mae: 8.2693\n",
            "Epoch 28/100\n",
            "23/23 [==============================] - 0s 2ms/step - loss: 100.7724 - mae: 8.0320\n",
            "Epoch 29/100\n",
            "23/23 [==============================] - 0s 1ms/step - loss: 102.7704 - mae: 8.2738\n",
            "Epoch 30/100\n",
            "23/23 [==============================] - 0s 1ms/step - loss: 96.8891 - mae: 7.9303\n",
            "Epoch 31/100\n",
            "23/23 [==============================] - 0s 2ms/step - loss: 93.9551 - mae: 7.8338\n",
            "Epoch 32/100\n",
            "23/23 [==============================] - 0s 1ms/step - loss: 93.1361 - mae: 7.6163\n",
            "Epoch 33/100\n",
            "23/23 [==============================] - 0s 1ms/step - loss: 82.4189 - mae: 7.3238\n",
            "Epoch 34/100\n",
            "23/23 [==============================] - 0s 1ms/step - loss: 86.5358 - mae: 7.5584\n",
            "Epoch 35/100\n",
            "23/23 [==============================] - 0s 1ms/step - loss: 81.9152 - mae: 7.3527\n",
            "Epoch 36/100\n",
            "23/23 [==============================] - 0s 1ms/step - loss: 86.7142 - mae: 7.4265\n",
            "Epoch 37/100\n",
            "23/23 [==============================] - 0s 1ms/step - loss: 81.1642 - mae: 7.1774\n",
            "Epoch 38/100\n",
            "23/23 [==============================] - 0s 1ms/step - loss: 85.0954 - mae: 7.3276\n",
            "Epoch 39/100\n",
            "23/23 [==============================] - 0s 2ms/step - loss: 80.0928 - mae: 7.2041\n",
            "Epoch 40/100\n",
            "23/23 [==============================] - 0s 2ms/step - loss: 80.2680 - mae: 7.1946\n",
            "Epoch 41/100\n",
            "23/23 [==============================] - 0s 1ms/step - loss: 75.0825 - mae: 6.9303\n",
            "Epoch 42/100\n",
            "23/23 [==============================] - 0s 1ms/step - loss: 83.0107 - mae: 7.2750\n",
            "Epoch 43/100\n",
            "23/23 [==============================] - 0s 1ms/step - loss: 75.5529 - mae: 7.0276\n",
            "Epoch 44/100\n",
            "23/23 [==============================] - 0s 2ms/step - loss: 69.9597 - mae: 6.5485\n",
            "Epoch 45/100\n",
            "23/23 [==============================] - 0s 2ms/step - loss: 70.4545 - mae: 6.5294\n",
            "Epoch 46/100\n",
            "23/23 [==============================] - 0s 1ms/step - loss: 69.3502 - mae: 6.5997\n",
            "Epoch 47/100\n",
            "23/23 [==============================] - 0s 1ms/step - loss: 75.0594 - mae: 6.7625\n",
            "Epoch 48/100\n",
            "23/23 [==============================] - 0s 1ms/step - loss: 68.8598 - mae: 6.5424\n",
            "Epoch 49/100\n",
            "23/23 [==============================] - 0s 1ms/step - loss: 63.2405 - mae: 6.2311\n",
            "Epoch 50/100\n",
            "23/23 [==============================] - 0s 1ms/step - loss: 60.9119 - mae: 6.2367\n",
            "Epoch 51/100\n",
            "23/23 [==============================] - 0s 1ms/step - loss: 65.4847 - mae: 6.4022\n",
            "Epoch 52/100\n",
            "23/23 [==============================] - 0s 1ms/step - loss: 65.3265 - mae: 6.3126\n",
            "Epoch 53/100\n",
            "23/23 [==============================] - 0s 1ms/step - loss: 60.9001 - mae: 6.2122\n",
            "Epoch 54/100\n",
            "23/23 [==============================] - 0s 2ms/step - loss: 61.4934 - mae: 6.1709\n",
            "Epoch 55/100\n",
            "23/23 [==============================] - 0s 1ms/step - loss: 58.8487 - mae: 6.0167\n",
            "Epoch 56/100\n",
            "23/23 [==============================] - 0s 1ms/step - loss: 63.6862 - mae: 6.2364\n",
            "Epoch 57/100\n",
            "23/23 [==============================] - 0s 2ms/step - loss: 62.3255 - mae: 6.2303\n",
            "Epoch 58/100\n",
            "23/23 [==============================] - 0s 2ms/step - loss: 56.3338 - mae: 5.8103\n",
            "Epoch 59/100\n",
            "23/23 [==============================] - 0s 1ms/step - loss: 56.6096 - mae: 5.8546\n",
            "Epoch 60/100\n",
            "23/23 [==============================] - 0s 2ms/step - loss: 53.7863 - mae: 5.7074\n",
            "Epoch 61/100\n",
            "23/23 [==============================] - 0s 1ms/step - loss: 53.8306 - mae: 5.6507\n",
            "Epoch 62/100\n",
            "23/23 [==============================] - 0s 1ms/step - loss: 60.0821 - mae: 6.0404\n",
            "Epoch 63/100\n",
            "23/23 [==============================] - 0s 2ms/step - loss: 50.1945 - mae: 5.4824\n",
            "Epoch 64/100\n",
            "23/23 [==============================] - 0s 1ms/step - loss: 53.6774 - mae: 5.7171\n",
            "Epoch 65/100\n",
            "23/23 [==============================] - 0s 1ms/step - loss: 52.6011 - mae: 5.6539\n",
            "Epoch 66/100\n",
            "23/23 [==============================] - 0s 1ms/step - loss: 53.3976 - mae: 5.6759\n",
            "Epoch 67/100\n",
            "23/23 [==============================] - 0s 1ms/step - loss: 47.9037 - mae: 5.3618\n",
            "Epoch 68/100\n",
            "23/23 [==============================] - 0s 1ms/step - loss: 49.9421 - mae: 5.3815\n",
            "Epoch 69/100\n",
            "23/23 [==============================] - 0s 1ms/step - loss: 47.9996 - mae: 5.3267\n",
            "Epoch 70/100\n",
            "23/23 [==============================] - 0s 1ms/step - loss: 45.9115 - mae: 5.3513\n",
            "Epoch 71/100\n",
            "23/23 [==============================] - 0s 1ms/step - loss: 48.1815 - mae: 5.4451\n",
            "Epoch 72/100\n",
            "23/23 [==============================] - 0s 2ms/step - loss: 45.4825 - mae: 5.2150\n",
            "Epoch 73/100\n",
            "23/23 [==============================] - 0s 2ms/step - loss: 47.7194 - mae: 5.2941\n",
            "Epoch 74/100\n",
            "23/23 [==============================] - 0s 2ms/step - loss: 43.9618 - mae: 5.1924\n",
            "Epoch 75/100\n",
            "23/23 [==============================] - 0s 2ms/step - loss: 48.4621 - mae: 5.4611\n",
            "Epoch 76/100\n",
            "23/23 [==============================] - 0s 1ms/step - loss: 45.1227 - mae: 5.1344\n",
            "Epoch 77/100\n",
            "23/23 [==============================] - 0s 1ms/step - loss: 43.1617 - mae: 5.0604\n",
            "Epoch 78/100\n",
            "23/23 [==============================] - 0s 1ms/step - loss: 39.8027 - mae: 4.7806\n",
            "Epoch 79/100\n",
            "23/23 [==============================] - 0s 1ms/step - loss: 40.5439 - mae: 4.9157\n",
            "Epoch 80/100\n",
            "23/23 [==============================] - 0s 1ms/step - loss: 42.4635 - mae: 5.0744\n",
            "Epoch 81/100\n",
            "23/23 [==============================] - 0s 1ms/step - loss: 39.4152 - mae: 4.8356\n",
            "Epoch 82/100\n",
            "23/23 [==============================] - 0s 1ms/step - loss: 39.5885 - mae: 4.9296\n",
            "Epoch 83/100\n",
            "23/23 [==============================] - 0s 1ms/step - loss: 46.7233 - mae: 5.2162\n",
            "Epoch 84/100\n",
            "23/23 [==============================] - 0s 2ms/step - loss: 38.0722 - mae: 4.7610\n",
            "Epoch 85/100\n",
            "23/23 [==============================] - 0s 1ms/step - loss: 39.6866 - mae: 4.8092\n",
            "Epoch 86/100\n",
            "23/23 [==============================] - 0s 2ms/step - loss: 38.3474 - mae: 4.7244\n",
            "Epoch 87/100\n",
            "23/23 [==============================] - 0s 1ms/step - loss: 36.6196 - mae: 4.6314\n",
            "Epoch 88/100\n",
            "23/23 [==============================] - 0s 2ms/step - loss: 40.9904 - mae: 4.7301\n",
            "Epoch 89/100\n",
            "23/23 [==============================] - 0s 1ms/step - loss: 44.2035 - mae: 4.9510\n",
            "Epoch 90/100\n",
            "23/23 [==============================] - 0s 2ms/step - loss: 35.9348 - mae: 4.6653\n",
            "Epoch 91/100\n",
            "23/23 [==============================] - 0s 2ms/step - loss: 36.6126 - mae: 4.6608\n",
            "Epoch 92/100\n",
            "23/23 [==============================] - 0s 1ms/step - loss: 37.5405 - mae: 4.6798\n",
            "Epoch 93/100\n",
            "23/23 [==============================] - 0s 1ms/step - loss: 34.2458 - mae: 4.4713\n",
            "Epoch 94/100\n",
            "23/23 [==============================] - 0s 1ms/step - loss: 35.0572 - mae: 4.6194\n",
            "Epoch 95/100\n",
            "23/23 [==============================] - 0s 1ms/step - loss: 37.5290 - mae: 4.6323\n",
            "Epoch 96/100\n",
            "23/23 [==============================] - 0s 1ms/step - loss: 34.0936 - mae: 4.5003\n",
            "Epoch 97/100\n",
            "23/23 [==============================] - 0s 2ms/step - loss: 36.1765 - mae: 4.5127\n",
            "Epoch 98/100\n",
            "23/23 [==============================] - 0s 2ms/step - loss: 34.7046 - mae: 4.4657\n",
            "Epoch 99/100\n",
            "23/23 [==============================] - 0s 2ms/step - loss: 32.8899 - mae: 4.4277\n",
            "Epoch 100/100\n",
            "23/23 [==============================] - 0s 1ms/step - loss: 33.2408 - mae: 4.3863\n"
          ],
          "name": "stdout"
        },
        {
          "output_type": "execute_result",
          "data": {
            "text/plain": [
              "<tensorflow.python.keras.callbacks.History at 0x7f4afd4dd890>"
            ]
          },
          "metadata": {
            "tags": []
          },
          "execution_count": 12
        }
      ]
    },
    {
      "cell_type": "markdown",
      "metadata": {
        "id": "ZaMG2hPQCw55"
      },
      "source": [
        "**Evaluating the Network**"
      ]
    },
    {
      "cell_type": "code",
      "metadata": {
        "colab": {
          "base_uri": "https://localhost:8080/"
        },
        "id": "A7MTF6Zn1NPk",
        "outputId": "f1d2da00-10b7-45c1-ba4c-da9e44b1cbf6"
      },
      "source": [
        "test_mse_scoe, test_mae_score=model.evaluate(test_data, test_labels)"
      ],
      "execution_count": 13,
      "outputs": [
        {
          "output_type": "stream",
          "text": [
            "10/10 [==============================] - 0s 2ms/step - loss: 49.7531 - mae: 5.3222\n"
          ],
          "name": "stdout"
        }
      ]
    },
    {
      "cell_type": "code",
      "metadata": {
        "colab": {
          "base_uri": "https://localhost:8080/"
        },
        "id": "NtGM3kUW1ODJ",
        "outputId": "3d2f6609-2d9b-4628-bdc1-020f5a8b8e93"
      },
      "source": [
        "test_mae_score"
      ],
      "execution_count": 14,
      "outputs": [
        {
          "output_type": "execute_result",
          "data": {
            "text/plain": [
              "5.322227954864502"
            ]
          },
          "metadata": {
            "tags": []
          },
          "execution_count": 14
        }
      ]
    },
    {
      "cell_type": "markdown",
      "metadata": {
        "id": "1JqSaVk_EYNU"
      },
      "source": [
        "**Predicting the values**"
      ]
    },
    {
      "cell_type": "code",
      "metadata": {
        "id": "4ee69F6E6Tbk"
      },
      "source": [
        "denormalized = test_labels"
      ],
      "execution_count": 15,
      "outputs": []
    },
    {
      "cell_type": "code",
      "metadata": {
        "id": "38w8e-UY68ub"
      },
      "source": [
        "prediction=model.predict(test_data)"
      ],
      "execution_count": 16,
      "outputs": []
    },
    {
      "cell_type": "code",
      "metadata": {
        "id": "SJjq6uF9Xk8Q"
      },
      "source": [
        "pred_norm=prediction"
      ],
      "execution_count": 17,
      "outputs": []
    },
    {
      "cell_type": "code",
      "metadata": {
        "colab": {
          "base_uri": "https://localhost:8080/",
          "height": 279
        },
        "id": "4_j6AHMVXqgL",
        "outputId": "8e06975e-7e79-415b-958c-1f2f4fd8635a"
      },
      "source": [
        "plt.plot(range(1, len(pred_norm[:300:6])+1), pred_norm[:300:6], label=\"Prediction\")\n",
        "plt.plot(range(1, len(pred_norm[:300:6])+1), denormalized[:300:6], label=\"Actual\")\n",
        "plt.xlabel(\"index Position\")\n",
        "plt.ylabel(\"Strenght\")\n",
        "plt.legend()\n",
        "plt.show()\n"
      ],
      "execution_count": 18,
      "outputs": [
        {
          "output_type": "display_data",
          "data": {
            "image/png": "[encoded data removed]",
            "text/plain": [
              "<Figure size 432x288 with 1 Axes>"
            ]
          },
          "metadata": {
            "tags": [],
            "needs_background": "light"
          }
        }
      ]
    }
  ]
}