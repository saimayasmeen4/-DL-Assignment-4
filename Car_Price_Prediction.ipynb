{
  "nbformat": 4,
  "nbformat_minor": 0,
  "metadata": {
    "colab": {
      "name": "Car Price Prediction.ipynb",
      "provenance": [],
      "collapsed_sections": []
    },
    "kernelspec": {
      "name": "python3",
      "display_name": "Python 3"
    }
  },
  "cells": [
    {
      "cell_type": "code",
      "metadata": {
        "id": "OB7lZOefOF45"
      },
      "source": [
        "import numpy as np\n",
        "import pandas as pd\n",
        "import tensorflow as tf\n",
        "from keras import models\n",
        "from keras import layers\n",
        "import matplotlib.pyplot as plt\n",
        "from sklearn.model_selection import train_test_split\n",
        "from keras import regularizers"
      ],
      "execution_count": 1,
      "outputs": []
    },
    {
      "cell_type": "code",
      "metadata": {
        "colab": {
          "resources": {
            "http://localhost:8080/nbextensions/google.colab/files.js": {
              "data": "Ly8gQ29weXJpZ2h0IDIwMTcgR29vZ2xlIExMQwovLwovLyBMaWNlbnNlZCB1bmRlciB0aGUgQXBhY2hlIExpY2Vuc2UsIFZlcnNpb24gMi4wICh0aGUgIkxpY2Vuc2UiKTsKLy8geW91IG1heSBub3QgdXNlIHRoaXMgZmlsZSBleGNlcHQgaW4gY29tcGxpYW5jZSB3aXRoIHRoZSBMaWNlbnNlLgovLyBZb3UgbWF5IG9idGFpbiBhIGNvcHkgb2YgdGhlIExpY2Vuc2UgYXQKLy8KLy8gICAgICBodHRwOi8vd3d3LmFwYWNoZS5vcmcvbGljZW5zZXMvTElDRU5TRS0yLjAKLy8KLy8gVW5sZXNzIHJlcXVpcmVkIGJ5IGFwcGxpY2FibGUgbGF3IG9yIGFncmVlZCB0byBpbiB3cml0aW5nLCBzb2Z0d2FyZQovLyBkaXN0cmlidXRlZCB1bmRlciB0aGUgTGljZW5zZSBpcyBkaXN0cmlidXRlZCBvbiBhbiAiQVMgSVMiIEJBU0lTLAovLyBXSVRIT1VUIFdBUlJBTlRJRVMgT1IgQ09ORElUSU9OUyBPRiBBTlkgS0lORCwgZWl0aGVyIGV4cHJlc3Mgb3IgaW1wbGllZC4KLy8gU2VlIHRoZSBMaWNlbnNlIGZvciB0aGUgc3BlY2lmaWMgbGFuZ3VhZ2UgZ292ZXJuaW5nIHBlcm1pc3Npb25zIGFuZAovLyBsaW1pdGF0aW9ucyB1bmRlciB0aGUgTGljZW5zZS4KCi8qKgogKiBAZmlsZW92ZXJ2aWV3IEhlbHBlcnMgZm9yIGdvb2dsZS5jb2xhYiBQeXRob24gbW9kdWxlLgogKi8KKGZ1bmN0aW9uKHNjb3BlKSB7CmZ1bmN0aW9uIHNwYW4odGV4dCwgc3R5bGVBdHRyaWJ1dGVzID0ge30pIHsKICBjb25zdCBlbGVtZW50ID0gZG9jdW1lbnQuY3JlYXRlRWxlbWVudCgnc3BhbicpOwogIGVsZW1lbnQudGV4dENvbnRlbnQgPSB0ZXh0OwogIGZvciAoY29uc3Qga2V5IG9mIE9iamVjdC5rZXlzKHN0eWxlQXR0cmlidXRlcykpIHsKICAgIGVsZW1lbnQuc3R5bGVba2V5XSA9IHN0eWxlQXR0cmlidXRlc1trZXldOwogIH0KICByZXR1cm4gZWxlbWVudDsKfQoKLy8gTWF4IG51bWJlciBvZiBieXRlcyB3aGljaCB3aWxsIGJlIHVwbG9hZGVkIGF0IGEgdGltZS4KY29uc3QgTUFYX1BBWUxPQURfU0laRSA9IDEwMCAqIDEwMjQ7CgpmdW5jdGlvbiBfdXBsb2FkRmlsZXMoaW5wdXRJZCwgb3V0cHV0SWQpIHsKICBjb25zdCBzdGVwcyA9IHVwbG9hZEZpbGVzU3RlcChpbnB1dElkLCBvdXRwdXRJZCk7CiAgY29uc3Qgb3V0cHV0RWxlbWVudCA9IGRvY3VtZW50LmdldEVsZW1lbnRCeUlkKG91dHB1dElkKTsKICAvLyBDYWNoZSBzdGVwcyBvbiB0aGUgb3V0cHV0RWxlbWVudCB0byBtYWtlIGl0IGF2YWlsYWJsZSBmb3IgdGhlIG5leHQgY2FsbAogIC8vIHRvIHVwbG9hZEZpbGVzQ29udGludWUgZnJvbSBQeXRob24uCiAgb3V0cHV0RWxlbWVudC5zdGVwcyA9IHN0ZXBzOwoKICByZXR1cm4gX3VwbG9hZEZpbGVzQ29udGludWUob3V0cHV0SWQpOwp9CgovLyBUaGlzIGlzIHJvdWdobHkgYW4gYXN5bmMgZ2VuZXJhdG9yIChub3Qgc3VwcG9ydGVkIGluIHRoZSBicm93c2VyIHlldCksCi8vIHdoZXJlIHRoZXJlIGFyZSBtdWx0aXBsZSBhc3luY2hyb25vdXMgc3RlcHMgYW5kIHRoZSBQeXRob24gc2lkZSBpcyBnb2luZwovLyB0byBwb2xsIGZvciBjb21wbGV0aW9uIG9mIGVhY2ggc3RlcC4KLy8gVGhpcyB1c2VzIGEgUHJvbWlzZSB0byBibG9jayB0aGUgcHl0aG9uIHNpZGUgb24gY29tcGxldGlvbiBvZiBlYWNoIHN0ZXAsCi8vIHRoZW4gcGFzc2VzIHRoZSByZXN1bHQgb2YgdGhlIHByZXZpb3VzIHN0ZXAgYXMgdGhlIGlucHV0IHRvIHRoZSBuZXh0IHN0ZXAuCmZ1bmN0aW9uIF91cGxvYWRGaWxlc0NvbnRpbnVlKG91dHB1dElkKSB7CiAgY29uc3Qgb3V0cHV0RWxlbWVudCA9IGRvY3VtZW50LmdldEVsZW1lbnRCeUlkKG91dHB1dElkKTsKICBjb25zdCBzdGVwcyA9IG91dHB1dEVsZW1lbnQuc3RlcHM7CgogIGNvbnN0IG5leHQgPSBzdGVwcy5uZXh0KG91dHB1dEVsZW1lbnQubGFzdFByb21pc2VWYWx1ZSk7CiAgcmV0dXJuIFByb21pc2UucmVzb2x2ZShuZXh0LnZhbHVlLnByb21pc2UpLnRoZW4oKHZhbHVlKSA9PiB7CiAgICAvLyBDYWNoZSB0aGUgbGFzdCBwcm9taXNlIHZhbHVlIHRvIG1ha2UgaXQgYXZhaWxhYmxlIHRvIHRoZSBuZXh0CiAgICAvLyBzdGVwIG9mIHRoZSBnZW5lcmF0b3IuCiAgICBvdXRwdXRFbGVtZW50Lmxhc3RQcm9taXNlVmFsdWUgPSB2YWx1ZTsKICAgIHJldHVybiBuZXh0LnZhbHVlLnJlc3BvbnNlOwogIH0pOwp9CgovKioKICogR2VuZXJhdG9yIGZ1bmN0aW9uIHdoaWNoIGlzIGNhbGxlZCBiZXR3ZWVuIGVhY2ggYXN5bmMgc3RlcCBvZiB0aGUgdXBsb2FkCiAqIHByb2Nlc3MuCiAqIEBwYXJhbSB7c3RyaW5nfSBpbnB1dElkIEVsZW1lbnQgSUQgb2YgdGhlIGlucHV0IGZpbGUgcGlja2VyIGVsZW1lbnQuCiAqIEBwYXJhbSB7c3RyaW5nfSBvdXRwdXRJZCBFbGVtZW50IElEIG9mIHRoZSBvdXRwdXQgZGlzcGxheS4KICogQHJldHVybiB7IUl0ZXJhYmxlPCFPYmplY3Q+fSBJdGVyYWJsZSBvZiBuZXh0IHN0ZXBzLgogKi8KZnVuY3Rpb24qIHVwbG9hZEZpbGVzU3RlcChpbnB1dElkLCBvdXRwdXRJZCkgewogIGNvbnN0IGlucHV0RWxlbWVudCA9IGRvY3VtZW50LmdldEVsZW1lbnRCeUlkKGlucHV0SWQpOwogIGlucHV0RWxlbWVudC5kaXNhYmxlZCA9IGZhbHNlOwoKICBjb25zdCBvdXRwdXRFbGVtZW50ID0gZG9jdW1lbnQuZ2V0RWxlbWVudEJ5SWQob3V0cHV0SWQpOwogIG91dHB1dEVsZW1lbnQuaW5uZXJIVE1MID0gJyc7CgogIGNvbnN0IHBpY2tlZFByb21pc2UgPSBuZXcgUHJvbWlzZSgocmVzb2x2ZSkgPT4gewogICAgaW5wdXRFbGVtZW50LmFkZEV2ZW50TGlzdGVuZXIoJ2NoYW5nZScsIChlKSA9PiB7CiAgICAgIHJlc29sdmUoZS50YXJnZXQuZmlsZXMpOwogICAgfSk7CiAgfSk7CgogIGNvbnN0IGNhbmNlbCA9IGRvY3VtZW50LmNyZWF0ZUVsZW1lbnQoJ2J1dHRvbicpOwogIGlucHV0RWxlbWVudC5wYXJlbnRFbGVtZW50LmFwcGVuZENoaWxkKGNhbmNlbCk7CiAgY2FuY2VsLnRleHRDb250ZW50ID0gJ0NhbmNlbCB1cGxvYWQnOwogIGNvbnN0IGNhbmNlbFByb21pc2UgPSBuZXcgUHJvbWlzZSgocmVzb2x2ZSkgPT4gewogICAgY2FuY2VsLm9uY2xpY2sgPSAoKSA9PiB7CiAgICAgIHJlc29sdmUobnVsbCk7CiAgICB9OwogIH0pOwoKICAvLyBXYWl0IGZvciB0aGUgdXNlciB0byBwaWNrIHRoZSBmaWxlcy4KICBjb25zdCBmaWxlcyA9IHlpZWxkIHsKICAgIHByb21pc2U6IFByb21pc2UucmFjZShbcGlja2VkUHJvbWlzZSwgY2FuY2VsUHJvbWlzZV0pLAogICAgcmVzcG9uc2U6IHsKICAgICAgYWN0aW9uOiAnc3RhcnRpbmcnLAogICAgfQogIH07CgogIGNhbmNlbC5yZW1vdmUoKTsKCiAgLy8gRGlzYWJsZSB0aGUgaW5wdXQgZWxlbWVudCBzaW5jZSBmdXJ0aGVyIHBpY2tzIGFyZSBub3QgYWxsb3dlZC4KICBpbnB1dEVsZW1lbnQuZGlzYWJsZWQgPSB0cnVlOwoKICBpZiAoIWZpbGVzKSB7CiAgICByZXR1cm4gewogICAgICByZXNwb25zZTogewogICAgICAgIGFjdGlvbjogJ2NvbXBsZXRlJywKICAgICAgfQogICAgfTsKICB9CgogIGZvciAoY29uc3QgZmlsZSBvZiBmaWxlcykgewogICAgY29uc3QgbGkgPSBkb2N1bWVudC5jcmVhdGVFbGVtZW50KCdsaScpOwogICAgbGkuYXBwZW5kKHNwYW4oZmlsZS5uYW1lLCB7Zm9udFdlaWdodDogJ2JvbGQnfSkpOwogICAgbGkuYXBwZW5kKHNwYW4oCiAgICAgICAgYCgke2ZpbGUudHlwZSB8fCAnbi9hJ30pIC0gJHtmaWxlLnNpemV9IGJ5dGVzLCBgICsKICAgICAgICBgbGFzdCBtb2RpZmllZDogJHsKICAgICAgICAgICAgZmlsZS5sYXN0TW9kaWZpZWREYXRlID8gZmlsZS5sYXN0TW9kaWZpZWREYXRlLnRvTG9jYWxlRGF0ZVN0cmluZygpIDoKICAgICAgICAgICAgICAgICAgICAgICAgICAgICAgICAgICAgJ24vYSd9IC0gYCkpOwogICAgY29uc3QgcGVyY2VudCA9IHNwYW4oJzAlIGRvbmUnKTsKICAgIGxpLmFwcGVuZENoaWxkKHBlcmNlbnQpOwoKICAgIG91dHB1dEVsZW1lbnQuYXBwZW5kQ2hpbGQobGkpOwoKICAgIGNvbnN0IGZpbGVEYXRhUHJvbWlzZSA9IG5ldyBQcm9taXNlKChyZXNvbHZlKSA9PiB7CiAgICAgIGNvbnN0IHJlYWRlciA9IG5ldyBGaWxlUmVhZGVyKCk7CiAgICAgIHJlYWRlci5vbmxvYWQgPSAoZSkgPT4gewogICAgICAgIHJlc29sdmUoZS50YXJnZXQucmVzdWx0KTsKICAgICAgfTsKICAgICAgcmVhZGVyLnJlYWRBc0FycmF5QnVmZmVyKGZpbGUpOwogICAgfSk7CiAgICAvLyBXYWl0IGZvciB0aGUgZGF0YSB0byBiZSByZWFkeS4KICAgIGxldCBmaWxlRGF0YSA9IHlpZWxkIHsKICAgICAgcHJvbWlzZTogZmlsZURhdGFQcm9taXNlLAogICAgICByZXNwb25zZTogewogICAgICAgIGFjdGlvbjogJ2NvbnRpbnVlJywKICAgICAgfQogICAgfTsKCiAgICAvLyBVc2UgYSBjaHVua2VkIHNlbmRpbmcgdG8gYXZvaWQgbWVzc2FnZSBzaXplIGxpbWl0cy4gU2VlIGIvNjIxMTU2NjAuCiAgICBsZXQgcG9zaXRpb24gPSAwOwogICAgd2hpbGUgKHBvc2l0aW9uIDwgZmlsZURhdGEuYnl0ZUxlbmd0aCkgewogICAgICBjb25zdCBsZW5ndGggPSBNYXRoLm1pbihmaWxlRGF0YS5ieXRlTGVuZ3RoIC0gcG9zaXRpb24sIE1BWF9QQVlMT0FEX1NJWkUpOwogICAgICBjb25zdCBjaHVuayA9IG5ldyBVaW50OEFycmF5KGZpbGVEYXRhLCBwb3NpdGlvbiwgbGVuZ3RoKTsKICAgICAgcG9zaXRpb24gKz0gbGVuZ3RoOwoKICAgICAgY29uc3QgYmFzZTY0ID0gYnRvYShTdHJpbmcuZnJvbUNoYXJDb2RlLmFwcGx5KG51bGwsIGNodW5rKSk7CiAgICAgIHlpZWxkIHsKICAgICAgICByZXNwb25zZTogewogICAgICAgICAgYWN0aW9uOiAnYXBwZW5kJywKICAgICAgICAgIGZpbGU6IGZpbGUubmFtZSwKICAgICAgICAgIGRhdGE6IGJhc2U2NCwKICAgICAgICB9LAogICAgICB9OwogICAgICBwZXJjZW50LnRleHRDb250ZW50ID0KICAgICAgICAgIGAke01hdGgucm91bmQoKHBvc2l0aW9uIC8gZmlsZURhdGEuYnl0ZUxlbmd0aCkgKiAxMDApfSUgZG9uZWA7CiAgICB9CiAgfQoKICAvLyBBbGwgZG9uZS4KICB5aWVsZCB7CiAgICByZXNwb25zZTogewogICAgICBhY3Rpb246ICdjb21wbGV0ZScsCiAgICB9CiAgfTsKfQoKc2NvcGUuZ29vZ2xlID0gc2NvcGUuZ29vZ2xlIHx8IHt9OwpzY29wZS5nb29nbGUuY29sYWIgPSBzY29wZS5nb29nbGUuY29sYWIgfHwge307CnNjb3BlLmdvb2dsZS5jb2xhYi5fZmlsZXMgPSB7CiAgX3VwbG9hZEZpbGVzLAogIF91cGxvYWRGaWxlc0NvbnRpbnVlLAp9Owp9KShzZWxmKTsK",
              "ok": true,
              "headers": [
                [
                  "content-type",
                  "application/javascript"
                ]
              ],
              "status": 200,
              "status_text": ""
            }
          },
          "base_uri": "https://localhost:8080/",
          "height": 73
        },
        "id": "4glMWVtNVWrc",
        "outputId": "c51be641-e8c7-4e21-c429-078ed29b266b"
      },
      "source": [
        "from google.colab import files\n",
        "uploaded=files.upload()"
      ],
      "execution_count": 2,
      "outputs": [
        {
          "output_type": "display_data",
          "data": {
            "text/html": [
              "\n",
              "     <input type=\"file\" id=\"files-8acac34c-e347-4fca-990c-6c813b9684d1\" name=\"files[]\" multiple disabled\n",
              "        style=\"border:none\" />\n",
              "     <output id=\"result-8acac34c-e347-4fca-990c-6c813b9684d1\">\n",
              "      Upload widget is only available when the cell has been executed in the\n",
              "      current browser session. Please rerun this cell to enable.\n",
              "      </output>\n",
              "      <script src=\"/nbextensions/google.colab/files.js\"></script> "
            ],
            "text/plain": [
              "<IPython.core.display.HTML object>"
            ]
          },
          "metadata": {
            "tags": []
          }
        },
        {
          "output_type": "stream",
          "text": [
            "Saving CarPrice_Assignment.csv to CarPrice_Assignment (13).csv\n"
          ],
          "name": "stdout"
        }
      ]
    },
    {
      "cell_type": "code",
      "metadata": {
        "id": "qoYODR_KVnG0"
      },
      "source": [
        "import io\n",
        "df=pd.read_csv(io.BytesIO(uploaded[\"CarPrice_Assignment.csv\"]))"
      ],
      "execution_count": 3,
      "outputs": []
    },
    {
      "cell_type": "code",
      "metadata": {
        "colab": {
          "base_uri": "https://localhost:8080/"
        },
        "id": "VaXIjeqF0oDT",
        "outputId": "d21a0d67-ca52-43a3-890e-39dd4f82aa03"
      },
      "source": [
        "df.info()\n",
        "df.size\n",
        "df.shape"
      ],
      "execution_count": 4,
      "outputs": [
        {
          "output_type": "stream",
          "text": [
            "<class 'pandas.core.frame.DataFrame'>\n",
            "RangeIndex: 205 entries, 0 to 204\n",
            "Data columns (total 26 columns):\n",
            " #   Column            Non-Null Count  Dtype  \n",
            "---  ------            --------------  -----  \n",
            " 0   car_ID            205 non-null    int64  \n",
            " 1   symboling         205 non-null    int64  \n",
            " 2   CarName           205 non-null    object \n",
            " 3   fueltype          205 non-null    object \n",
            " 4   aspiration        205 non-null    object \n",
            " 5   doornumber        205 non-null    object \n",
            " 6   carbody           205 non-null    object \n",
            " 7   drivewheel        205 non-null    object \n",
            " 8   enginelocation    205 non-null    object \n",
            " 9   wheelbase         205 non-null    float64\n",
            " 10  carlength         205 non-null    float64\n",
            " 11  carwidth          205 non-null    float64\n",
            " 12  carheight         205 non-null    float64\n",
            " 13  curbweight        205 non-null    int64  \n",
            " 14  enginetype        205 non-null    object \n",
            " 15  cylindernumber    205 non-null    object \n",
            " 16  enginesize        205 non-null    int64  \n",
            " 17  fuelsystem        205 non-null    object \n",
            " 18  boreratio         205 non-null    float64\n",
            " 19  stroke            205 non-null    float64\n",
            " 20  compressionratio  205 non-null    float64\n",
            " 21  horsepower        205 non-null    int64  \n",
            " 22  peakrpm           205 non-null    int64  \n",
            " 23  citympg           205 non-null    int64  \n",
            " 24  highwaympg        205 non-null    int64  \n",
            " 25  price             205 non-null    float64\n",
            "dtypes: float64(8), int64(8), object(10)\n",
            "memory usage: 41.8+ KB\n"
          ],
          "name": "stdout"
        },
        {
          "output_type": "execute_result",
          "data": {
            "text/plain": [
              "(205, 26)"
            ]
          },
          "metadata": {
            "tags": []
          },
          "execution_count": 4
        }
      ]
    },
    {
      "cell_type": "code",
      "metadata": {
        "colab": {
          "base_uri": "https://localhost:8080/",
          "height": 67
        },
        "id": "mHhRvx3o0keC",
        "outputId": "ddf6a252-d222-4a02-9f8d-3c9de7bc2f3c"
      },
      "source": [
        "df[df.duplicated()]"
      ],
      "execution_count": 5,
      "outputs": [
        {
          "output_type": "execute_result",
          "data": {
            "text/html": [
              "<div>\n",
              "<style scoped>\n",
              "    .dataframe tbody tr th:only-of-type {\n",
              "        vertical-align: middle;\n",
              "    }\n",
              "\n",
              "    .dataframe tbody tr th {\n",
              "        vertical-align: top;\n",
              "    }\n",
              "\n",
              "    .dataframe thead th {\n",
              "        text-align: right;\n",
              "    }\n",
              "</style>\n",
              "<table border=\"1\" class=\"dataframe\">\n",
              "  <thead>\n",
              "    <tr style=\"text-align: right;\">\n",
              "      <th></th>\n",
              "      <th>car_ID</th>\n",
              "      <th>symboling</th>\n",
              "      <th>CarName</th>\n",
              "      <th>fueltype</th>\n",
              "      <th>aspiration</th>\n",
              "      <th>doornumber</th>\n",
              "      <th>carbody</th>\n",
              "      <th>drivewheel</th>\n",
              "      <th>enginelocation</th>\n",
              "      <th>wheelbase</th>\n",
              "      <th>carlength</th>\n",
              "      <th>carwidth</th>\n",
              "      <th>carheight</th>\n",
              "      <th>curbweight</th>\n",
              "      <th>enginetype</th>\n",
              "      <th>cylindernumber</th>\n",
              "      <th>enginesize</th>\n",
              "      <th>fuelsystem</th>\n",
              "      <th>boreratio</th>\n",
              "      <th>stroke</th>\n",
              "      <th>compressionratio</th>\n",
              "      <th>horsepower</th>\n",
              "      <th>peakrpm</th>\n",
              "      <th>citympg</th>\n",
              "      <th>highwaympg</th>\n",
              "      <th>price</th>\n",
              "    </tr>\n",
              "  </thead>\n",
              "  <tbody>\n",
              "  </tbody>\n",
              "</table>\n",
              "</div>"
            ],
            "text/plain": [
              "Empty DataFrame\n",
              "Columns: [car_ID, symboling, CarName, fueltype, aspiration, doornumber, carbody, drivewheel, enginelocation, wheelbase, carlength, carwidth, carheight, curbweight, enginetype, cylindernumber, enginesize, fuelsystem, boreratio, stroke, compressionratio, horsepower, peakrpm, citympg, highwaympg, price]\n",
              "Index: []"
            ]
          },
          "metadata": {
            "tags": []
          },
          "execution_count": 5
        }
      ]
    },
    {
      "cell_type": "code",
      "metadata": {
        "id": "fTg9FEpHXYZp"
      },
      "source": [
        "normalized_data=df.copy()"
      ],
      "execution_count": 6,
      "outputs": []
    },
    {
      "cell_type": "code",
      "metadata": {
        "colab": {
          "base_uri": "https://localhost:8080/",
          "height": 266
        },
        "id": "7hOpChw3lgLP",
        "outputId": "44d5aa99-10cd-43a8-e915-e33ac628b56f"
      },
      "source": [
        "normalized_data.iloc[3,2]=\"audi 100ls\"\n",
        "normalized_data.head()"
      ],
      "execution_count": 7,
      "outputs": [
        {
          "output_type": "execute_result",
          "data": {
            "text/html": [
              "<div>\n",
              "<style scoped>\n",
              "    .dataframe tbody tr th:only-of-type {\n",
              "        vertical-align: middle;\n",
              "    }\n",
              "\n",
              "    .dataframe tbody tr th {\n",
              "        vertical-align: top;\n",
              "    }\n",
              "\n",
              "    .dataframe thead th {\n",
              "        text-align: right;\n",
              "    }\n",
              "</style>\n",
              "<table border=\"1\" class=\"dataframe\">\n",
              "  <thead>\n",
              "    <tr style=\"text-align: right;\">\n",
              "      <th></th>\n",
              "      <th>car_ID</th>\n",
              "      <th>symboling</th>\n",
              "      <th>CarName</th>\n",
              "      <th>fueltype</th>\n",
              "      <th>aspiration</th>\n",
              "      <th>doornumber</th>\n",
              "      <th>carbody</th>\n",
              "      <th>drivewheel</th>\n",
              "      <th>enginelocation</th>\n",
              "      <th>wheelbase</th>\n",
              "      <th>carlength</th>\n",
              "      <th>carwidth</th>\n",
              "      <th>carheight</th>\n",
              "      <th>curbweight</th>\n",
              "      <th>enginetype</th>\n",
              "      <th>cylindernumber</th>\n",
              "      <th>enginesize</th>\n",
              "      <th>fuelsystem</th>\n",
              "      <th>boreratio</th>\n",
              "      <th>stroke</th>\n",
              "      <th>compressionratio</th>\n",
              "      <th>horsepower</th>\n",
              "      <th>peakrpm</th>\n",
              "      <th>citympg</th>\n",
              "      <th>highwaympg</th>\n",
              "      <th>price</th>\n",
              "    </tr>\n",
              "  </thead>\n",
              "  <tbody>\n",
              "    <tr>\n",
              "      <th>0</th>\n",
              "      <td>1</td>\n",
              "      <td>3</td>\n",
              "      <td>alfa-romero giulia</td>\n",
              "      <td>gas</td>\n",
              "      <td>std</td>\n",
              "      <td>two</td>\n",
              "      <td>convertible</td>\n",
              "      <td>rwd</td>\n",
              "      <td>front</td>\n",
              "      <td>88.6</td>\n",
              "      <td>168.8</td>\n",
              "      <td>64.1</td>\n",
              "      <td>48.8</td>\n",
              "      <td>2548</td>\n",
              "      <td>dohc</td>\n",
              "      <td>four</td>\n",
              "      <td>130</td>\n",
              "      <td>mpfi</td>\n",
              "      <td>3.47</td>\n",
              "      <td>2.68</td>\n",
              "      <td>9.0</td>\n",
              "      <td>111</td>\n",
              "      <td>5000</td>\n",
              "      <td>21</td>\n",
              "      <td>27</td>\n",
              "      <td>13495.0</td>\n",
              "    </tr>\n",
              "    <tr>\n",
              "      <th>1</th>\n",
              "      <td>2</td>\n",
              "      <td>3</td>\n",
              "      <td>alfa-romero stelvio</td>\n",
              "      <td>gas</td>\n",
              "      <td>std</td>\n",
              "      <td>two</td>\n",
              "      <td>convertible</td>\n",
              "      <td>rwd</td>\n",
              "      <td>front</td>\n",
              "      <td>88.6</td>\n",
              "      <td>168.8</td>\n",
              "      <td>64.1</td>\n",
              "      <td>48.8</td>\n",
              "      <td>2548</td>\n",
              "      <td>dohc</td>\n",
              "      <td>four</td>\n",
              "      <td>130</td>\n",
              "      <td>mpfi</td>\n",
              "      <td>3.47</td>\n",
              "      <td>2.68</td>\n",
              "      <td>9.0</td>\n",
              "      <td>111</td>\n",
              "      <td>5000</td>\n",
              "      <td>21</td>\n",
              "      <td>27</td>\n",
              "      <td>16500.0</td>\n",
              "    </tr>\n",
              "    <tr>\n",
              "      <th>2</th>\n",
              "      <td>3</td>\n",
              "      <td>1</td>\n",
              "      <td>alfa-romero Quadrifoglio</td>\n",
              "      <td>gas</td>\n",
              "      <td>std</td>\n",
              "      <td>two</td>\n",
              "      <td>hatchback</td>\n",
              "      <td>rwd</td>\n",
              "      <td>front</td>\n",
              "      <td>94.5</td>\n",
              "      <td>171.2</td>\n",
              "      <td>65.5</td>\n",
              "      <td>52.4</td>\n",
              "      <td>2823</td>\n",
              "      <td>ohcv</td>\n",
              "      <td>six</td>\n",
              "      <td>152</td>\n",
              "      <td>mpfi</td>\n",
              "      <td>2.68</td>\n",
              "      <td>3.47</td>\n",
              "      <td>9.0</td>\n",
              "      <td>154</td>\n",
              "      <td>5000</td>\n",
              "      <td>19</td>\n",
              "      <td>26</td>\n",
              "      <td>16500.0</td>\n",
              "    </tr>\n",
              "    <tr>\n",
              "      <th>3</th>\n",
              "      <td>4</td>\n",
              "      <td>2</td>\n",
              "      <td>audi 100ls</td>\n",
              "      <td>gas</td>\n",
              "      <td>std</td>\n",
              "      <td>four</td>\n",
              "      <td>sedan</td>\n",
              "      <td>fwd</td>\n",
              "      <td>front</td>\n",
              "      <td>99.8</td>\n",
              "      <td>176.6</td>\n",
              "      <td>66.2</td>\n",
              "      <td>54.3</td>\n",
              "      <td>2337</td>\n",
              "      <td>ohc</td>\n",
              "      <td>four</td>\n",
              "      <td>109</td>\n",
              "      <td>mpfi</td>\n",
              "      <td>3.19</td>\n",
              "      <td>3.40</td>\n",
              "      <td>10.0</td>\n",
              "      <td>102</td>\n",
              "      <td>5500</td>\n",
              "      <td>24</td>\n",
              "      <td>30</td>\n",
              "      <td>13950.0</td>\n",
              "    </tr>\n",
              "    <tr>\n",
              "      <th>4</th>\n",
              "      <td>5</td>\n",
              "      <td>2</td>\n",
              "      <td>audi 100ls</td>\n",
              "      <td>gas</td>\n",
              "      <td>std</td>\n",
              "      <td>four</td>\n",
              "      <td>sedan</td>\n",
              "      <td>4wd</td>\n",
              "      <td>front</td>\n",
              "      <td>99.4</td>\n",
              "      <td>176.6</td>\n",
              "      <td>66.4</td>\n",
              "      <td>54.3</td>\n",
              "      <td>2824</td>\n",
              "      <td>ohc</td>\n",
              "      <td>five</td>\n",
              "      <td>136</td>\n",
              "      <td>mpfi</td>\n",
              "      <td>3.19</td>\n",
              "      <td>3.40</td>\n",
              "      <td>8.0</td>\n",
              "      <td>115</td>\n",
              "      <td>5500</td>\n",
              "      <td>18</td>\n",
              "      <td>22</td>\n",
              "      <td>17450.0</td>\n",
              "    </tr>\n",
              "  </tbody>\n",
              "</table>\n",
              "</div>"
            ],
            "text/plain": [
              "   car_ID  symboling                   CarName  ... citympg highwaympg    price\n",
              "0       1          3        alfa-romero giulia  ...      21         27  13495.0\n",
              "1       2          3       alfa-romero stelvio  ...      21         27  16500.0\n",
              "2       3          1  alfa-romero Quadrifoglio  ...      19         26  16500.0\n",
              "3       4          2                audi 100ls  ...      24         30  13950.0\n",
              "4       5          2                audi 100ls  ...      18         22  17450.0\n",
              "\n",
              "[5 rows x 26 columns]"
            ]
          },
          "metadata": {
            "tags": []
          },
          "execution_count": 7
        }
      ]
    },
    {
      "cell_type": "markdown",
      "metadata": {
        "id": "52IFUah_P0m4"
      },
      "source": [
        "**One Hot Encoding**"
      ]
    },
    {
      "cell_type": "code",
      "metadata": {
        "id": "f9nKcMGTLhyj"
      },
      "source": [
        "# Since 10 coulmns are object types so we have to encode and concatenate them \n",
        "#all = pd.get_dummies(normalized_data, columns=[\"fueltype\", \"aspiration\", \"doornumber\", \"carbody\",\"drivewheel\", \"enginelocation\",\"enginetype\", \"cylindernumber\"]).astype(dtype=\"float64\")\n",
        "\n",
        "#column2= pd.get_dummies(normalized_data.iloc[:, 2:3]).astype(dtype=\"float64\")\n",
        "column3= pd.get_dummies(normalized_data.iloc[:, 3:4]).astype(dtype=\"float64\")\n",
        "column4= pd.get_dummies(normalized_data.iloc[:, 4:5]).astype(dtype=\"float64\")\n",
        "column5= pd.get_dummies(normalized_data.iloc[:, 5:6]).astype(dtype=\"float64\")\n",
        "column6= pd.get_dummies(normalized_data.iloc[:, 6:7]).astype(dtype=\"float64\")\n",
        "column7= pd.get_dummies(normalized_data.iloc[:, 7:8]).astype(dtype=\"float64\")\n",
        "column8= pd.get_dummies(normalized_data.iloc[:, 8:9]).astype(dtype=\"float64\")\n",
        "column14= pd.get_dummies(normalized_data.iloc[:, 14:15]).astype(dtype=\"float64\")\n",
        "column15= pd.get_dummies(normalized_data.iloc[:, 15:16]).astype(dtype=\"float64\")\n",
        "column17= pd.get_dummies(normalized_data.iloc[:, 17:18]).astype(dtype=\"float64\")\n"
      ],
      "execution_count": 8,
      "outputs": []
    },
    {
      "cell_type": "code",
      "metadata": {
        "id": "JfMG0MVNTiz-"
      },
      "source": [
        "#Deleting the original columns\n",
        "normalized_data.drop(columns=[\"CarName\", \"fueltype\", \"aspiration\", \"doornumber\", \"carbody\",\"drivewheel\", \"enginelocation\", \"enginetype\", \"cylindernumber\", \"fuelsystem\"], axis=1, inplace=True)\n",
        "normalized_data.drop(columns=[\"car_ID\"], axis=1, inplace=True)"
      ],
      "execution_count": 9,
      "outputs": []
    },
    {
      "cell_type": "markdown",
      "metadata": {
        "id": "JSjivnybXs7V"
      },
      "source": [
        "**Normalizing the data**"
      ]
    },
    {
      "cell_type": "code",
      "metadata": {
        "id": "iNSmrtYKDQid",
        "colab": {
          "base_uri": "https://localhost:8080/"
        },
        "outputId": "56776822-440d-4f2c-ef44-f0d3be339076"
      },
      "source": [
        "max=normalized_data.max()\n",
        "min=normalized_data.min()\n",
        "normalized_data=(normalized_data-min)/(max-min)\n",
        "\n",
        "normalized_data=normalized_data.iloc[:,:-1]\n",
        "\n",
        "x_labels=normalized_data.iloc[:,-1:]\n",
        "\n",
        "normalized_data.shape"
      ],
      "execution_count": 10,
      "outputs": [
        {
          "output_type": "execute_result",
          "data": {
            "text/plain": [
              "(205, 14)"
            ]
          },
          "metadata": {
            "tags": []
          },
          "execution_count": 10
        }
      ]
    },
    {
      "cell_type": "code",
      "metadata": {
        "id": "FSoKdRjJDVPf"
      },
      "source": [
        "x_data =pd.concat([ column3, column4, column5, column6, column7, column8, column14, column15, column17, normalized_data], axis=1)"
      ],
      "execution_count": 11,
      "outputs": []
    },
    {
      "cell_type": "markdown",
      "metadata": {
        "id": "gdHbT-HjBslh"
      },
      "source": [
        "**Split Training and Testing data**"
      ]
    },
    {
      "cell_type": "code",
      "metadata": {
        "id": "aaAe7FiECU7u"
      },
      "source": [
        "train_data, test_data, train_labels, test_labels=train_test_split(x_data, x_labels, test_size=0.3, random_state=1)"
      ],
      "execution_count": 12,
      "outputs": []
    },
    {
      "cell_type": "code",
      "metadata": {
        "id": "tRxdqSgdXJBv"
      },
      "source": [
        "train_labels=np.asarray(train_labels).astype(dtype=\"float64\")\n",
        "test_labels=np.asarray(test_labels).astype(dtype=\"float64\")"
      ],
      "execution_count": 15,
      "outputs": []
    },
    {
      "cell_type": "markdown",
      "metadata": {
        "id": "2M61BEM05nfl"
      },
      "source": [
        "**Building the Network**"
      ]
    },
    {
      "cell_type": "code",
      "metadata": {
        "id": "ED_I-v_L5mIi"
      },
      "source": [
        "def build_model():\n",
        "  model = models.Sequential()\n",
        "  model.add(layers.Dense(32, kernel_regularizer=regularizers.l1( l1=0.001), activation = \"relu\", input_shape=(train_data.shape[1],)))\n",
        "  model.add(layers.Dense(10,kernel_regularizer=regularizers.l1( l1=0.001), activation=\"relu\"))\n",
        "  model.add(layers.Dense(8,kernel_regularizer=regularizers.l1( l1=0.001), activation=\"relu\"))\n",
        "  model.add(layers.Dense(6,kernel_regularizer=regularizers.l1( l1=0.001), activation=\"relu\"))\n",
        "  model.add(layers.Dense(1))\n",
        "  model.compile(optimizer=\"rmsprop\", loss=\"mse\", metrics=[\"mae\"])\n",
        "  return model\n"
      ],
      "execution_count": 16,
      "outputs": []
    },
    {
      "cell_type": "markdown",
      "metadata": {
        "id": "z5F_KxGd6OrQ"
      },
      "source": [
        "**K fold validation**"
      ]
    },
    {
      "cell_type": "code",
      "metadata": {
        "colab": {
          "base_uri": "https://localhost:8080/"
        },
        "id": "mPw1BhuP7snB",
        "outputId": "2cc88d5e-2589-46fc-db6f-f298c7b04cf0"
      },
      "source": [
        "k= 4\n",
        "num_val_sample = len(train_data) // k\n",
        "num_epochs = 100\n",
        "all_scores = []\n",
        "all_val_loss_histories = []\n",
        "all_val_mae_histories = []\n",
        "all_loss_histories =[]\n",
        "all_mae_histories = []\n",
        "\n",
        "for i in range(k):\n",
        "  print(\"processing fold #\",i)\n",
        "  val_data = train_data[i*num_val_sample:(i+1)*num_val_sample]\n",
        "  val_labels = train_labels[i*num_val_sample: (i+1)*num_val_sample]\n",
        "\n",
        "  partial_train_data=np.concatenate([train_data[:i*num_val_sample], train_data[(i+1)*num_val_sample:]], axis=0)\n",
        "  partial_train_labels=np.concatenate([train_labels[:i*num_val_sample], train_labels[(i+1)*num_val_sample:]], axis=0)\n",
        "\n",
        "  model=build_model()\n",
        "  history = model.fit(partial_train_data, partial_train_labels, validation_data = (val_data, val_labels), epochs= num_epochs, batch_size=1, verbose=0)\n",
        "  val_loss, val_mae = model.evaluate(test_data, test_labels, verbose=0)\n",
        "  val_loss_history = history.history[\"val_loss\"]\n",
        "  val_mae_history = history.history[\"val_mae\"]\n",
        "  loss_history = history.history[\"loss\"]\n",
        "  mae_history = history.history[\"mae\"]\n",
        "  all_loss_histories.append(loss_history)\n",
        "  all_mae_histories.append(mae_history)\n",
        "  all_val_loss_histories.append(val_loss_history)\n",
        "  all_val_mae_histories.append(val_mae_history)\n",
        "  all_scores.append(val_mae)\n",
        "ave_val_loss_hist = [np.mean([x[i] for x in all_val_loss_histories]) for i in range(num_epochs)]\n",
        "ave_loss_hist = [np.mean([x[i] for x in all_loss_histories]) for i in range(num_epochs)]\n",
        "ave_val_mae_hist = [np.mean([x[i] for x in all_val_mae_histories]) for i in range(num_epochs)]\n",
        "ave_mae_hist = [np.mean([x[i] for x in all_mae_histories]) for i in range(num_epochs)]\n",
        "all_scores"
      ],
      "execution_count": 17,
      "outputs": [
        {
          "output_type": "stream",
          "text": [
            "processing fold # 0\n",
            "processing fold # 1\n",
            "processing fold # 2\n",
            "processing fold # 3\n"
          ],
          "name": "stdout"
        },
        {
          "output_type": "execute_result",
          "data": {
            "text/plain": [
              "[0.01410262007266283,\n",
              " 0.020142797380685806,\n",
              " 0.017207050696015358,\n",
              " 0.01072081457823515]"
            ]
          },
          "metadata": {
            "tags": []
          },
          "execution_count": 17
        }
      ]
    },
    {
      "cell_type": "code",
      "metadata": {
        "colab": {
          "base_uri": "https://localhost:8080/",
          "height": 279
        },
        "id": "wShBs3X_7_xf",
        "outputId": "80a569a0-593a-42bf-88bb-373ef01e6a6c"
      },
      "source": [
        "plt.plot(range(1, len(ave_val_loss_hist)+1)[:], ave_val_loss_hist[:], \"bo\", label=\"Validation Loss\")\n",
        "plt.plot(range(1, len(ave_val_loss_hist)+1)[:], ave_loss_hist[:], \"b\", label=\"Training Loss\")\n",
        "plt.xlabel(\"Epochs\")\n",
        "plt.ylabel(\"Validation Loss\")\n",
        "plt.legend()\n",
        "plt.show()"
      ],
      "execution_count": 29,
      "outputs": [
        {
          "output_type": "display_data",
          "data": {
            "image/png": "[encoded data removed]",
            "text/plain": [
              "<Figure size 432x288 with 1 Axes>"
            ]
          },
          "metadata": {
            "tags": [],
            "needs_background": "light"
          }
        }
      ]
    },
    {
      "cell_type": "code",
      "metadata": {
        "colab": {
          "base_uri": "https://localhost:8080/",
          "height": 279
        },
        "id": "qUr7hmSW8BFk",
        "outputId": "9082936a-81b5-48e6-e3fd-284b04884982"
      },
      "source": [
        "plt.plot(range(1, len(ave_val_mae_hist)+1)[:], ave_val_mae_hist[:], \"bo\", label=\"Validation MAE\")\n",
        "plt.plot(range(1, len(ave_val_mae_hist)+1)[:], ave_mae_hist[:], \"b\", label=\"Training MAE\")\n",
        "plt.xlabel(\"Epochs\")\n",
        "plt.ylabel(\"Validation Mean Absolute Error\")\n",
        "plt.legend()\n",
        "plt.show()"
      ],
      "execution_count": 30,
      "outputs": [
        {
          "output_type": "display_data",
          "data": {
            "image/png": "[encoded data removed]",
            "text/plain": [
              "<Figure size 432x288 with 1 Axes>"
            ]
          },
          "metadata": {
            "tags": [],
            "needs_background": "light"
          }
        }
      ]
    },
    {
      "cell_type": "markdown",
      "metadata": {
        "id": "JYUBfUA8Vxl9"
      },
      "source": [
        "**Building the best fit Model**"
      ]
    },
    {
      "cell_type": "code",
      "metadata": {
        "id": "gLMMiU0SV1x9"
      },
      "source": [
        "model = models.Sequential()\n",
        "model.add(layers.Dense(32, kernel_regularizer=regularizers.l1( l1=0.001), activation = \"relu\", input_shape=(train_data.shape[1],)))\n",
        "model.add(layers.Dense(10,kernel_regularizer=regularizers.l1( l1=0.001), activation=\"relu\"))\n",
        "model.add(layers.Dense(8,kernel_regularizer=regularizers.l1( l1=0.001), activation=\"relu\"))\n",
        "model.add(layers.Dense(6,kernel_regularizer=regularizers.l1( l1=0.001), activation=\"relu\"))\n",
        "model.add(layers.Dense(1))\n",
        "model.compile(optimizer=\"rmsprop\", loss=\"mse\", metrics=[\"mae\"])"
      ],
      "execution_count": 20,
      "outputs": []
    },
    {
      "cell_type": "markdown",
      "metadata": {
        "id": "oAuO6lI_WOIw"
      },
      "source": [
        "**Training the model with all samples**"
      ]
    },
    {
      "cell_type": "code",
      "metadata": {
        "colab": {
          "base_uri": "https://localhost:8080/"
        },
        "id": "yhMh5hqMVyqn",
        "outputId": "42b7f95e-b413-42cf-8b98-c935e7aa559a"
      },
      "source": [
        "model.fit(train_data, train_labels, epochs=100)"
      ],
      "execution_count": 21,
      "outputs": [
        {
          "output_type": "stream",
          "text": [
            "Epoch 1/100\n",
            "5/5 [==============================] - 1s 4ms/step - loss: 0.3778 - mae: 0.1881\n",
            "Epoch 2/100\n",
            "5/5 [==============================] - 0s 2ms/step - loss: 0.3292 - mae: 0.1023\n",
            "Epoch 3/100\n",
            "5/5 [==============================] - 0s 3ms/step - loss: 0.3165 - mae: 0.0905\n",
            "Epoch 4/100\n",
            "5/5 [==============================] - 0s 2ms/step - loss: 0.3067 - mae: 0.0772\n",
            "Epoch 5/100\n",
            "5/5 [==============================] - 0s 3ms/step - loss: 0.3005 - mae: 0.0795\n",
            "Epoch 6/100\n",
            "5/5 [==============================] - 0s 2ms/step - loss: 0.2940 - mae: 0.0772\n",
            "Epoch 7/100\n",
            "5/5 [==============================] - 0s 2ms/step - loss: 0.2865 - mae: 0.0746\n",
            "Epoch 8/100\n",
            "5/5 [==============================] - 0s 3ms/step - loss: 0.2772 - mae: 0.0658\n",
            "Epoch 9/100\n",
            "5/5 [==============================] - 0s 2ms/step - loss: 0.2696 - mae: 0.0623\n",
            "Epoch 10/100\n",
            "5/5 [==============================] - 0s 3ms/step - loss: 0.2616 - mae: 0.0592\n",
            "Epoch 11/100\n",
            "5/5 [==============================] - 0s 3ms/step - loss: 0.2541 - mae: 0.0529\n",
            "Epoch 12/100\n",
            "5/5 [==============================] - 0s 2ms/step - loss: 0.2481 - mae: 0.0554\n",
            "Epoch 13/100\n",
            "5/5 [==============================] - 0s 2ms/step - loss: 0.2401 - mae: 0.0503\n",
            "Epoch 14/100\n",
            "5/5 [==============================] - 0s 2ms/step - loss: 0.2334 - mae: 0.0484\n",
            "Epoch 15/100\n",
            "5/5 [==============================] - 0s 2ms/step - loss: 0.2264 - mae: 0.0490\n",
            "Epoch 16/100\n",
            "5/5 [==============================] - 0s 2ms/step - loss: 0.2218 - mae: 0.0606\n",
            "Epoch 17/100\n",
            "5/5 [==============================] - 0s 2ms/step - loss: 0.2136 - mae: 0.0465\n",
            "Epoch 18/100\n",
            "5/5 [==============================] - 0s 2ms/step - loss: 0.2069 - mae: 0.0452\n",
            "Epoch 19/100\n",
            "5/5 [==============================] - 0s 2ms/step - loss: 0.2011 - mae: 0.0470\n",
            "Epoch 20/100\n",
            "5/5 [==============================] - 0s 3ms/step - loss: 0.1948 - mae: 0.0459\n",
            "Epoch 21/100\n",
            "5/5 [==============================] - 0s 2ms/step - loss: 0.1877 - mae: 0.0399\n",
            "Epoch 22/100\n",
            "5/5 [==============================] - 0s 4ms/step - loss: 0.1825 - mae: 0.0441\n",
            "Epoch 23/100\n",
            "5/5 [==============================] - 0s 2ms/step - loss: 0.1770 - mae: 0.0462\n",
            "Epoch 24/100\n",
            "5/5 [==============================] - 0s 2ms/step - loss: 0.1707 - mae: 0.0431\n",
            "Epoch 25/100\n",
            "5/5 [==============================] - 0s 2ms/step - loss: 0.1646 - mae: 0.0369\n",
            "Epoch 26/100\n",
            "5/5 [==============================] - 0s 3ms/step - loss: 0.1595 - mae: 0.0423\n",
            "Epoch 27/100\n",
            "5/5 [==============================] - 0s 4ms/step - loss: 0.1557 - mae: 0.0496\n",
            "Epoch 28/100\n",
            "5/5 [==============================] - 0s 2ms/step - loss: 0.1496 - mae: 0.0440\n",
            "Epoch 29/100\n",
            "5/5 [==============================] - 0s 2ms/step - loss: 0.1443 - mae: 0.0379\n",
            "Epoch 30/100\n",
            "5/5 [==============================] - 0s 3ms/step - loss: 0.1400 - mae: 0.0414\n",
            "Epoch 31/100\n",
            "5/5 [==============================] - 0s 2ms/step - loss: 0.1345 - mae: 0.0347\n",
            "Epoch 32/100\n",
            "5/5 [==============================] - 0s 3ms/step - loss: 0.1301 - mae: 0.0385\n",
            "Epoch 33/100\n",
            "5/5 [==============================] - 0s 3ms/step - loss: 0.1258 - mae: 0.0403\n",
            "Epoch 34/100\n",
            "5/5 [==============================] - 0s 3ms/step - loss: 0.1208 - mae: 0.0338\n",
            "Epoch 35/100\n",
            "5/5 [==============================] - 0s 3ms/step - loss: 0.1164 - mae: 0.0322\n",
            "Epoch 36/100\n",
            "5/5 [==============================] - 0s 3ms/step - loss: 0.1131 - mae: 0.0417\n",
            "Epoch 37/100\n",
            "5/5 [==============================] - 0s 3ms/step - loss: 0.1102 - mae: 0.0474\n",
            "Epoch 38/100\n",
            "5/5 [==============================] - 0s 4ms/step - loss: 0.1047 - mae: 0.0340\n",
            "Epoch 39/100\n",
            "5/5 [==============================] - 0s 3ms/step - loss: 0.1009 - mae: 0.0353\n",
            "Epoch 40/100\n",
            "5/5 [==============================] - 0s 2ms/step - loss: 0.0975 - mae: 0.0390\n",
            "Epoch 41/100\n",
            "5/5 [==============================] - 0s 3ms/step - loss: 0.0935 - mae: 0.0342\n",
            "Epoch 42/100\n",
            "5/5 [==============================] - 0s 2ms/step - loss: 0.0924 - mae: 0.0512\n",
            "Epoch 43/100\n",
            "5/5 [==============================] - 0s 3ms/step - loss: 0.0871 - mae: 0.0347\n",
            "Epoch 44/100\n",
            "5/5 [==============================] - 0s 3ms/step - loss: 0.0840 - mae: 0.0352\n",
            "Epoch 45/100\n",
            "5/5 [==============================] - 0s 2ms/step - loss: 0.0817 - mae: 0.0378\n",
            "Epoch 46/100\n",
            "5/5 [==============================] - 0s 3ms/step - loss: 0.0794 - mae: 0.0431\n",
            "Epoch 47/100\n",
            "5/5 [==============================] - 0s 2ms/step - loss: 0.0765 - mae: 0.0403\n",
            "Epoch 48/100\n",
            "5/5 [==============================] - 0s 2ms/step - loss: 0.0731 - mae: 0.0348\n",
            "Epoch 49/100\n",
            "5/5 [==============================] - 0s 2ms/step - loss: 0.0706 - mae: 0.0313\n",
            "Epoch 50/100\n",
            "5/5 [==============================] - 0s 3ms/step - loss: 0.0689 - mae: 0.0380\n",
            "Epoch 51/100\n",
            "5/5 [==============================] - 0s 3ms/step - loss: 0.0667 - mae: 0.0360\n",
            "Epoch 52/100\n",
            "5/5 [==============================] - 0s 2ms/step - loss: 0.0644 - mae: 0.0346\n",
            "Epoch 53/100\n",
            "5/5 [==============================] - 0s 2ms/step - loss: 0.0624 - mae: 0.0326\n",
            "Epoch 54/100\n",
            "5/5 [==============================] - 0s 2ms/step - loss: 0.0615 - mae: 0.0413\n",
            "Epoch 55/100\n",
            "5/5 [==============================] - 0s 2ms/step - loss: 0.0591 - mae: 0.0373\n",
            "Epoch 56/100\n",
            "5/5 [==============================] - 0s 3ms/step - loss: 0.0572 - mae: 0.0348\n",
            "Epoch 57/100\n",
            "5/5 [==============================] - 0s 2ms/step - loss: 0.0560 - mae: 0.0381\n",
            "Epoch 58/100\n",
            "5/5 [==============================] - 0s 4ms/step - loss: 0.0543 - mae: 0.0352\n",
            "Epoch 59/100\n",
            "5/5 [==============================] - 0s 3ms/step - loss: 0.0532 - mae: 0.0394\n",
            "Epoch 60/100\n",
            "5/5 [==============================] - 0s 3ms/step - loss: 0.0520 - mae: 0.0380\n",
            "Epoch 61/100\n",
            "5/5 [==============================] - 0s 3ms/step - loss: 0.0497 - mae: 0.0333\n",
            "Epoch 62/100\n",
            "5/5 [==============================] - 0s 2ms/step - loss: 0.0485 - mae: 0.0313\n",
            "Epoch 63/100\n",
            "5/5 [==============================] - 0s 2ms/step - loss: 0.0488 - mae: 0.0450\n",
            "Epoch 64/100\n",
            "5/5 [==============================] - 0s 2ms/step - loss: 0.0465 - mae: 0.0354\n",
            "Epoch 65/100\n",
            "5/5 [==============================] - 0s 2ms/step - loss: 0.0452 - mae: 0.0359\n",
            "Epoch 66/100\n",
            "5/5 [==============================] - 0s 3ms/step - loss: 0.0448 - mae: 0.0413\n",
            "Epoch 67/100\n",
            "5/5 [==============================] - 0s 3ms/step - loss: 0.0436 - mae: 0.0397\n",
            "Epoch 68/100\n",
            "5/5 [==============================] - 0s 3ms/step - loss: 0.0423 - mae: 0.0367\n",
            "Epoch 69/100\n",
            "5/5 [==============================] - 0s 2ms/step - loss: 0.0410 - mae: 0.0324\n",
            "Epoch 70/100\n",
            "5/5 [==============================] - 0s 2ms/step - loss: 0.0403 - mae: 0.0343\n",
            "Epoch 71/100\n",
            "5/5 [==============================] - 0s 2ms/step - loss: 0.0395 - mae: 0.0333\n",
            "Epoch 72/100\n",
            "5/5 [==============================] - 0s 3ms/step - loss: 0.0382 - mae: 0.0321\n",
            "Epoch 73/100\n",
            "5/5 [==============================] - 0s 3ms/step - loss: 0.0380 - mae: 0.0360\n",
            "Epoch 74/100\n",
            "5/5 [==============================] - 0s 3ms/step - loss: 0.0371 - mae: 0.0345\n",
            "Epoch 75/100\n",
            "5/5 [==============================] - 0s 3ms/step - loss: 0.0362 - mae: 0.0332\n",
            "Epoch 76/100\n",
            "5/5 [==============================] - 0s 2ms/step - loss: 0.0354 - mae: 0.0324\n",
            "Epoch 77/100\n",
            "5/5 [==============================] - 0s 3ms/step - loss: 0.0350 - mae: 0.0317\n",
            "Epoch 78/100\n",
            "5/5 [==============================] - 0s 4ms/step - loss: 0.0346 - mae: 0.0359\n",
            "Epoch 79/100\n",
            "5/5 [==============================] - 0s 3ms/step - loss: 0.0340 - mae: 0.0366\n",
            "Epoch 80/100\n",
            "5/5 [==============================] - 0s 3ms/step - loss: 0.0327 - mae: 0.0302\n",
            "Epoch 81/100\n",
            "5/5 [==============================] - 0s 2ms/step - loss: 0.0327 - mae: 0.0342\n",
            "Epoch 82/100\n",
            "5/5 [==============================] - 0s 3ms/step - loss: 0.0324 - mae: 0.0388\n",
            "Epoch 83/100\n",
            "5/5 [==============================] - 0s 3ms/step - loss: 0.0311 - mae: 0.0322\n",
            "Epoch 84/100\n",
            "5/5 [==============================] - 0s 3ms/step - loss: 0.0318 - mae: 0.0418\n",
            "Epoch 85/100\n",
            "5/5 [==============================] - 0s 4ms/step - loss: 0.0303 - mae: 0.0356\n",
            "Epoch 86/100\n",
            "5/5 [==============================] - 0s 5ms/step - loss: 0.0296 - mae: 0.0324\n",
            "Epoch 87/100\n",
            "5/5 [==============================] - 0s 2ms/step - loss: 0.0294 - mae: 0.0369\n",
            "Epoch 88/100\n",
            "5/5 [==============================] - 0s 2ms/step - loss: 0.0286 - mae: 0.0315\n",
            "Epoch 89/100\n",
            "5/5 [==============================] - 0s 3ms/step - loss: 0.0285 - mae: 0.0339\n",
            "Epoch 90/100\n",
            "5/5 [==============================] - 0s 2ms/step - loss: 0.0278 - mae: 0.0334\n",
            "Epoch 91/100\n",
            "5/5 [==============================] - 0s 2ms/step - loss: 0.0279 - mae: 0.0362\n",
            "Epoch 92/100\n",
            "5/5 [==============================] - 0s 2ms/step - loss: 0.0270 - mae: 0.0340\n",
            "Epoch 93/100\n",
            "5/5 [==============================] - 0s 2ms/step - loss: 0.0266 - mae: 0.0326\n",
            "Epoch 94/100\n",
            "5/5 [==============================] - 0s 3ms/step - loss: 0.0273 - mae: 0.0432\n",
            "Epoch 95/100\n",
            "5/5 [==============================] - 0s 2ms/step - loss: 0.0256 - mae: 0.0314\n",
            "Epoch 96/100\n",
            "5/5 [==============================] - 0s 2ms/step - loss: 0.0259 - mae: 0.0355\n",
            "Epoch 97/100\n",
            "5/5 [==============================] - 0s 2ms/step - loss: 0.0252 - mae: 0.0321\n",
            "Epoch 98/100\n",
            "5/5 [==============================] - 0s 2ms/step - loss: 0.0247 - mae: 0.0309\n",
            "Epoch 99/100\n",
            "5/5 [==============================] - 0s 2ms/step - loss: 0.0252 - mae: 0.0389\n",
            "Epoch 100/100\n",
            "5/5 [==============================] - 0s 2ms/step - loss: 0.0241 - mae: 0.0309\n"
          ],
          "name": "stdout"
        },
        {
          "output_type": "execute_result",
          "data": {
            "text/plain": [
              "<tensorflow.python.keras.callbacks.History at 0x7f801d72b2d0>"
            ]
          },
          "metadata": {
            "tags": []
          },
          "execution_count": 21
        }
      ]
    },
    {
      "cell_type": "markdown",
      "metadata": {
        "id": "6sQ111nxWRxH"
      },
      "source": [
        "**Evaluating the Network**"
      ]
    },
    {
      "cell_type": "code",
      "metadata": {
        "id": "SAI7xiI8WUjv",
        "colab": {
          "base_uri": "https://localhost:8080/"
        },
        "outputId": "798a3eda-e387-44d9-ff3c-3763b6aa8e15"
      },
      "source": [
        "test_mse_scoe, test_mae_score=model.evaluate(test_data, test_labels)"
      ],
      "execution_count": 25,
      "outputs": [
        {
          "output_type": "stream",
          "text": [
            "2/2 [==============================] - 0s 3ms/step - loss: 0.0254 - mae: 0.0442\n"
          ],
          "name": "stdout"
        }
      ]
    },
    {
      "cell_type": "code",
      "metadata": {
        "id": "6rGQ1_-lWZIn",
        "colab": {
          "base_uri": "https://localhost:8080/"
        },
        "outputId": "15b7d462-aa81-4d55-91f6-ab40d12d93b3"
      },
      "source": [
        "test_mae_score"
      ],
      "execution_count": 26,
      "outputs": [
        {
          "output_type": "execute_result",
          "data": {
            "text/plain": [
              "0.044219009578228"
            ]
          },
          "metadata": {
            "tags": []
          },
          "execution_count": 26
        }
      ]
    },
    {
      "cell_type": "markdown",
      "metadata": {
        "id": "SpLf7fSYWhdI"
      },
      "source": [
        "**Predicting the values**"
      ]
    },
    {
      "cell_type": "code",
      "metadata": {
        "id": "9sGO88qeW60y"
      },
      "source": [
        "prediction=model.predict(test_data)\n",
        "\n",
        "pred_norm=(prediction*(max[-1]-min[-1]))+min[-1]\n",
        "test_norm = (test_labels*(max[-1]-min[-1]))+min[-1]"
      ],
      "execution_count": 27,
      "outputs": []
    },
    {
      "cell_type": "code",
      "metadata": {
        "id": "2xlPPPjWW1RU",
        "colab": {
          "base_uri": "https://localhost:8080/",
          "height": 279
        },
        "outputId": "f4f679d7-ce98-4bbe-bc9b-42f8a06b994d"
      },
      "source": [
        "plt.plot(range(1, len(pred_norm[:])+1), pred_norm[:], label=\"Prediction\")\n",
        "plt.plot(range(1, len(pred_norm[:])+1), test_norm[:], label=\"Actual\")\n",
        "plt.xlabel(\"Count\")\n",
        "plt.ylabel(\"Car Price\")\n",
        "plt.legend()\n",
        "plt.show()"
      ],
      "execution_count": 34,
      "outputs": [
        {
          "output_type": "display_data",
          "data": {
            "image/png": "[encoded data removed]",
            "text/plain": [
              "<Figure size 432x288 with 1 Axes>"
            ]
          },
          "metadata": {
            "tags": [],
            "needs_background": "light"
          }
        }
      ]
    },
    {
      "cell_type": "code",
      "metadata": {
        "id": "XukRULaeFH1o"
      },
      "source": [
        ""
      ],
      "execution_count": 28,
      "outputs": []
    }
  ]
}